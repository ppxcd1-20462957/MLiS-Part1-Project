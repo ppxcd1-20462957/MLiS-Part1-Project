{
 "cells": [
  {
   "cell_type": "markdown",
   "id": "e9902552-c99f-40c1-9c15-406769ed5373",
   "metadata": {},
   "source": [
    "# Ignore this"
   ]
  },
  {
   "cell_type": "code",
   "execution_count": null,
   "id": "41a3abd2-5ad8-410b-a356-6fb43dd5783e",
   "metadata": {},
   "outputs": [],
   "source": [
    "import pandas as pd\n",
    "\n",
    "\n",
    "class Preprocess():\n",
    "    def __init__(self):\n",
    "        sea_ice_data = pd.read_csv('N_seaice_extent_daily_v3.0.csv')\n",
    "        sea_ice_data = sea_ice_data.drop(index = 0, axis = 0)\n",
    "        sea_ice_data = sea_ice_data.rename(columns = lambda x: x.strip())\n",
    "        sea_ice_data = sea_ice_data.drop(columns = ['Month', 'Day', 'Missing', 'Source Data'], axis = 1)\n",
    "        sea_ice_data = self.sea_ice_averages(sea_ice_data)\n",
    "\n",
    "        co2_data = pd.read_csv('co2_mm_mlo.csv')\n",
    "        co2_data = co2_data.rename(columns = lambda x: x.strip())\n",
    "        co2_data = co2_data.drop(columns = ['month', 'decimal date', 'de-seasonalized', '#days', 'st.dev of days', 'unc. of mon mean'], axis = 1)\n",
    "        co2_data = self.co2_averages(co2_data)\n",
    "        co2_data = co2_data.loc[co2_data['year'] > 1977]\n",
    "        co2_data = co2_data.reset_index()\n",
    "\n",
    "        celsius_data = pd.read_csv('graph.csv')\n",
    "        celsius_data = celsius_data.rename(columns = lambda x: x.strip())\n",
    "        celsius_data = celsius_data.drop(columns = ['Lowess(5)'], axis = 1)\n",
    "        celsius_data = celsius_data.loc[celsius_data['Year'] > 1977]\n",
    "        celsius_data = celsius_data.append(pd.DataFrame({'Year': [2022],\n",
    "                                          'No_Smoothing': [0.84] #interpolated as 2021 value, assuming the data follows a trend\n",
    "                                         }))\n",
    "        celsius_data = celsius_data.reset_index()                             \n",
    "\n",
    "        all_data = sea_ice_data\n",
    "        all_data['Global CO2'] = co2_data['monthly average']\n",
    "        all_data['Temp Diff From Average'] = celsius_data['No_Smoothing']\n",
    "        sea_ice_data.to_csv('sea_avg_multi.csv', index=False) #SEA ICE DATA TO A CSV\n",
    "        \n",
    "        #min max normalisation\n",
    "        all_data['Extent'] = (all_data['Extent'] - all_data['Extent'].min()) / (all_data['Extent'].max() - all_data['Extent'].min()) \n",
    "        all_data['Global CO2'] = (all_data['Global CO2'] - all_data['Global CO2'].min()) / (all_data['Global CO2'].max() - all_data['Global CO2'].min())\n",
    "        all_data['Temp Diff From Average'] = (all_data['Temp Diff From Average'] - all_data['Temp Diff From Average'].min()) / (all_data['Temp Diff From Average'].max() - all_data['Temp Diff From Average'].min()) \n",
    "        \n",
    "        print(sea_ice_data.head())\n",
    "        print(all_data.head())\n",
    "    \n",
    "    def sea_ice_averages(self, sea_ice_data):\n",
    "        sea_ice_data['Year'] = pd.to_numeric(sea_ice_data['Year'])\n",
    "        sea_ice_data['Extent'] = pd.to_numeric(sea_ice_data['Extent'])\n",
    "        \n",
    "        unique_vals = pd.unique(sea_ice_data['Year'])\n",
    "\n",
    "        yearly_averages = []\n",
    "        for i in unique_vals:\n",
    "            x = 0\n",
    "            y = 0\n",
    "            for index, row in sea_ice_data.iterrows():\n",
    "                if row['Year'] == i:\n",
    "                    x += row['Extent']\n",
    "                    y += 1\n",
    "                    sea_ice_data = sea_ice_data.drop(index, axis = 0)\n",
    "                else:\n",
    "                    break\n",
    "            yearly_averages.append(x / y)\n",
    "\n",
    "        sea_ice_data['Year'] = unique_vals\n",
    "        sea_ice_data['Extent'] = yearly_averages\n",
    "        sea_ice_data.to_csv('sea_avg.csv', index=False) #SEA ICE DATA TO A CSV\n",
    "        return sea_ice_data\n",
    "\n",
    "    def co2_averages(self, co2_data):\n",
    "        co2_data['year'] = pd.to_numeric(co2_data['year'])\n",
    "        co2_data['monthly average'] = pd.to_numeric(co2_data['monthly average'])\n",
    "        \n",
    "        unique_vals = pd.unique(co2_data['year'])\n",
    "\n",
    "        yearly_averages = []\n",
    "        for i in unique_vals:\n",
    "            x = 0\n",
    "            y = 0\n",
    "            for index, row in co2_data.iterrows():\n",
    "                if row['year'] == i:\n",
    "                    x += row['monthly average']\n",
    "                    y += 1\n",
    "                    co2_data = co2_data.drop(index, axis = 0)\n",
    "                else:\n",
    "                    break\n",
    "            yearly_averages.append(x / y)\n",
    "\n",
    "        co2_data['year'] = unique_vals\n",
    "        co2_data['monthly average'] = yearly_averages\n",
    "        return co2_data\n",
    "\n",
    "def main():\n",
    "    df = Preprocess()\n",
    "if __name__ == '__main__':\n",
    "    main()"
   ]
  },
  {
   "cell_type": "markdown",
   "id": "82377e01-9f01-462c-8ca6-767e0277c297",
   "metadata": {},
   "source": [
    "# Start reading code from here"
   ]
  },
  {
   "cell_type": "code",
   "execution_count": 1,
   "id": "5cfa4d6c-0c25-44f7-a002-0a2d1e8b00e2",
   "metadata": {},
   "outputs": [],
   "source": [
    "import pandas as pd\n",
    "import numpy as np\n",
    "import matplotlib.pyplot as plt"
   ]
  },
  {
   "cell_type": "code",
   "execution_count": 2,
   "id": "90224b76-afb6-411c-8e38-8a235775f8d2",
   "metadata": {},
   "outputs": [
    {
     "data": {
      "text/html": [
       "<div>\n",
       "<style scoped>\n",
       "    .dataframe tbody tr th:only-of-type {\n",
       "        vertical-align: middle;\n",
       "    }\n",
       "\n",
       "    .dataframe tbody tr th {\n",
       "        vertical-align: top;\n",
       "    }\n",
       "\n",
       "    .dataframe thead th {\n",
       "        text-align: right;\n",
       "    }\n",
       "</style>\n",
       "<table border=\"1\" class=\"dataframe\">\n",
       "  <thead>\n",
       "    <tr style=\"text-align: right;\">\n",
       "      <th></th>\n",
       "      <th>Year</th>\n",
       "      <th>Extent</th>\n",
       "      <th>Global CO2</th>\n",
       "      <th>Temp Diff From Average</th>\n",
       "    </tr>\n",
       "  </thead>\n",
       "  <tbody>\n",
       "    <tr>\n",
       "      <th>0</th>\n",
       "      <td>1978</td>\n",
       "      <td>12.487000</td>\n",
       "      <td>335.415000</td>\n",
       "      <td>0.07</td>\n",
       "    </tr>\n",
       "    <tr>\n",
       "      <th>1</th>\n",
       "      <td>1979</td>\n",
       "      <td>12.319560</td>\n",
       "      <td>336.835000</td>\n",
       "      <td>0.16</td>\n",
       "    </tr>\n",
       "    <tr>\n",
       "      <th>2</th>\n",
       "      <td>1980</td>\n",
       "      <td>12.334148</td>\n",
       "      <td>338.762500</td>\n",
       "      <td>0.26</td>\n",
       "    </tr>\n",
       "    <tr>\n",
       "      <th>3</th>\n",
       "      <td>1981</td>\n",
       "      <td>12.135486</td>\n",
       "      <td>340.120000</td>\n",
       "      <td>0.32</td>\n",
       "    </tr>\n",
       "    <tr>\n",
       "      <th>4</th>\n",
       "      <td>1982</td>\n",
       "      <td>12.439445</td>\n",
       "      <td>341.478333</td>\n",
       "      <td>0.14</td>\n",
       "    </tr>\n",
       "  </tbody>\n",
       "</table>\n",
       "</div>"
      ],
      "text/plain": [
       "   Year     Extent  Global CO2  Temp Diff From Average\n",
       "0  1978  12.487000  335.415000                    0.07\n",
       "1  1979  12.319560  336.835000                    0.16\n",
       "2  1980  12.334148  338.762500                    0.26\n",
       "3  1981  12.135486  340.120000                    0.32\n",
       "4  1982  12.439445  341.478333                    0.14"
      ]
     },
     "execution_count": 2,
     "metadata": {},
     "output_type": "execute_result"
    }
   ],
   "source": [
    "df = pd.read_csv('sea_avg_multi.csv')\n",
    "df.head()"
   ]
  },
  {
   "cell_type": "code",
   "execution_count": 3,
   "id": "5ca983fd-1492-4542-8a51-58969bf58fa7",
   "metadata": {},
   "outputs": [
    {
     "name": "stdout",
     "output_type": "stream",
     "text": [
      "   Year  Global CO2  Temp Diff From Average\n",
      "0  1978  335.415000                    0.07\n",
      "1  1979  336.835000                    0.16\n",
      "2  1980  338.762500                    0.26\n",
      "3  1981  340.120000                    0.32\n",
      "4  1982  341.478333                    0.14\n",
      "(3,) (3,)\n",
      "       Year  Global CO2  Temp Diff From Average\n",
      "0 -1.693979   -1.540209               -1.708614\n",
      "1 -1.616980   -1.481698               -1.361578\n",
      "2 -1.539981   -1.402275               -0.975984\n",
      "3 -1.462982   -1.346340               -0.744627\n",
      "4 -1.385983   -1.290370               -1.438697\n",
      "<class 'pandas.core.frame.DataFrame'>\n",
      "(45, 4)\n",
      "<class 'numpy.ndarray'>\n"
     ]
    }
   ],
   "source": [
    "#Splitting X and Y\n",
    "y = df['Extent'].to_numpy()\n",
    "X = df.drop(['Extent'],axis=1)\n",
    "print(X.head())\n",
    "\n",
    "#Z normalisation\n",
    "u = np.mean(X,axis=0)\n",
    "std = np.std(X,axis=0)\n",
    "print(u.shape, std.shape)\n",
    "\n",
    "X = (X-u)/std\n",
    "print(X.head())\n",
    "print(type(X))\n",
    "\n",
    "ones = np.ones((X.shape[0],1))\n",
    "X = np.hstack((ones,X))\n",
    "print(X.shape)\n",
    "print(type(X))\n",
    "\n",
    "#Just to see if X is right, we dont need a dataframe after we got numpy array for X and y\n",
    "#df = pd.DataFrame(X)\n",
    "#df.head()"
   ]
  },
  {
   "cell_type": "code",
   "execution_count": 4,
   "id": "bfdd1cb4-1215-48d7-bb04-e908af70e9cc",
   "metadata": {},
   "outputs": [],
   "source": [
    "#vectorised stuff instead of running loops and storing values in list\n",
    "def hypothesis(X,theta):\n",
    "    return np.dot(X,theta)\n",
    "\n",
    "def error(X,y,theta):\n",
    "    e = 0.0\n",
    "    m = X.shape[0]\n",
    "    y_hat = hypothesis(X,theta)\n",
    "    e = np.sum((y-y_hat)**2)\n",
    "    \n",
    "    return e/m\n",
    "\n",
    "def gradient(X,y,theta):\n",
    "    y_hat = hypothesis(X,theta)\n",
    "    grad = np.dot(X.T,(y_hat-y))\n",
    "    m = X.shape[0]\n",
    "    \n",
    "    return grad/m\n",
    "\n",
    "def gradient_descent(X,y,learning_rate,max_epochs):\n",
    "    n = X.shape[1]\n",
    "    theta = np.zeros((n,))\n",
    "    error_list = []\n",
    "    \n",
    "    for i in range(max_epochs):\n",
    "        e = error(X,y,theta)\n",
    "        error_list.append(e)\n",
    "        \n",
    "        grad = gradient(X,y,theta)\n",
    "        theta = theta - learning_rate*grad\n",
    "        \n",
    "    return theta,error_list"
   ]
  },
  {
   "cell_type": "code",
   "execution_count": 5,
   "id": "5f9930e3-60fd-4179-aeaa-fdbe781ebf1a",
   "metadata": {},
   "outputs": [],
   "source": [
    "learning_rate = 0.1\n",
    "epochs = 100\n",
    "theta, error_list = gradient_descent(X,y,learning_rate,epochs)"
   ]
  },
  {
   "cell_type": "code",
   "execution_count": 6,
   "id": "b3d25a93-04d1-4887-83db-96ff0ab34016",
   "metadata": {},
   "outputs": [
    {
     "data": {
      "image/png": "[encoded data removed]",
      "text/plain": [
       "<Figure size 432x288 with 1 Axes>"
      ]
     },
     "metadata": {
      "needs_background": "light"
     },
     "output_type": "display_data"
    }
   ],
   "source": [
    "#Plotting error\n",
    "plt.plot(error_list)\n",
    "plt.show()"
   ]
  },
  {
   "cell_type": "code",
   "execution_count": 7,
   "id": "67f9a8ac-cbdf-4aef-8eea-28e6f9658956",
   "metadata": {},
   "outputs": [
    {
     "data": {
      "text/plain": [
       "array([12.48639807, 12.37362651, 12.24709993, 12.16231418, 12.29685963,\n",
       "       12.10865582, 12.21254749, 12.21800081, 12.13413217, 11.97308801,\n",
       "       11.8698783 , 11.94816411, 11.75470945, 11.77141656, 11.91066128,\n",
       "       11.87783174, 11.77125088, 11.61656418, 11.6924852 , 11.53661781,\n",
       "       11.36412108, 11.53211541, 11.49475335, 11.33454293, 11.21528335,\n",
       "       11.18379952, 11.2237098 , 11.05737517, 11.05715905, 10.99454566,\n",
       "       11.07018624, 10.93557409, 10.83162917, 10.89864604, 10.8244302 ,\n",
       "       10.76415714, 10.66370635, 10.4798666 , 10.33080799, 10.37411973,\n",
       "       10.40269285, 10.23954746, 10.16188297, 10.28865946, 10.25183383])"
      ]
     },
     "execution_count": 7,
     "metadata": {},
     "output_type": "execute_result"
    }
   ],
   "source": [
    "y_hat = hypothesis(X,theta)\n",
    "y_hat"
   ]
  },
  {
   "cell_type": "code",
   "execution_count": 8,
   "id": "5c2c8ace-14d6-471d-84c9-5f26a8fd8161",
   "metadata": {},
   "outputs": [
    {
     "data": {
      "text/plain": [
       "90.54780086649804"
      ]
     },
     "execution_count": 8,
     "metadata": {},
     "output_type": "execute_result"
    }
   ],
   "source": [
    "def r2_score(y,y_hat):\n",
    "    num = np.sum((y-y_hat)**2)\n",
    "    denom = np.sum((y-y.mean())**2)\n",
    "    score = (1-num/denom)\n",
    "    return score*100\n",
    "\n",
    "r2_score(y,y_hat)"
   ]
  },
  {
   "cell_type": "code",
   "execution_count": 9,
   "id": "e6bbb1ca-f624-4047-ac47-fc20bd8fc3c9",
   "metadata": {},
   "outputs": [
    {
     "name": "stdout",
     "output_type": "stream",
     "text": [
      "[-1.69397911 -1.61698006 -1.53998101 -1.46298196 -1.38598291 -1.30898386\n",
      " -1.23198481 -1.15498576 -1.0779867  -1.00098765 -0.9239886  -0.84698955\n",
      " -0.7699905  -0.69299145 -0.6159924  -0.53899335 -0.4619943  -0.38499525\n",
      " -0.3079962  -0.23099715 -0.1539981  -0.07699905  0.          0.07699905\n",
      "  0.1539981   0.23099715  0.3079962   0.38499525  0.4619943   0.53899335\n",
      "  0.6159924   0.69299145  0.7699905   0.84698955  0.9239886   1.00098765\n",
      "  1.0779867   1.15498576  1.23198481  1.30898386  1.38598291  1.46298196\n",
      "  1.53998101  1.61698006  1.69397911]\n"
     ]
    },
    {
     "data": {
      "image/png": "[encoded data removed]",
      "text/plain": [
       "<Figure size 432x288 with 1 Axes>"
      ]
     },
     "metadata": {
      "needs_background": "light"
     },
     "output_type": "display_data"
    }
   ],
   "source": [
    "import matplotlib.pyplot as plt\n",
    "#x = df2['Year'].to_numpy()\n",
    "print(X[:,1])\n",
    "plt.scatter(X[:,1],y)\n",
    "plt.plot(X[:,2],y_hat,c=\"red\")\n",
    "plt.show()"
   ]
  },
  {
   "cell_type": "code",
   "execution_count": null,
   "id": "0d085a64-0593-41bc-b528-d5c69295bd4e",
   "metadata": {},
   "outputs": [],
   "source": []
  }
 ],
 "metadata": {
  "kernelspec": {
   "display_name": "Python 3 (ipykernel)",
   "language": "python",
   "name": "python3"
  },
  "language_info": {
   "codemirror_mode": {
    "name": "ipython",
    "version": 3
   },
   "file_extension": ".py",
   "mimetype": "text/x-python",
   "name": "python",
   "nbconvert_exporter": "python",
   "pygments_lexer": "ipython3",
   "version": "3.9.12"
  }
 },
 "nbformat": 4,
 "nbformat_minor": 5
}
