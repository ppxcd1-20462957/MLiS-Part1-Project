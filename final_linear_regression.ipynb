{
 "cells": [
  {
   "cell_type": "markdown",
   "id": "e9902552-c99f-40c1-9c15-406769ed5373",
   "metadata": {},
   "source": [
    "# Ignore this"
   ]
  },
  {
   "cell_type": "code",
   "execution_count": null,
   "id": "41a3abd2-5ad8-410b-a356-6fb43dd5783e",
   "metadata": {},
   "outputs": [],
   "source": [
    "import pandas as pd\n",
    "\n",
    "\n",
    "class Preprocess():\n",
    "    def __init__(self):\n",
    "        sea_ice_data = pd.read_csv('N_seaice_extent_daily_v3.0.csv')\n",
    "        sea_ice_data = sea_ice_data.drop(index = 0, axis = 0)\n",
    "        sea_ice_data = sea_ice_data.rename(columns = lambda x: x.strip())\n",
    "        sea_ice_data = sea_ice_data.drop(columns = ['Month', 'Day', 'Missing', 'Source Data'], axis = 1)\n",
    "        sea_ice_data = self.sea_ice_averages(sea_ice_data)\n",
    "\n",
    "        co2_data = pd.read_csv('co2_mm_mlo.csv')\n",
    "        co2_data = co2_data.rename(columns = lambda x: x.strip())\n",
    "        co2_data = co2_data.drop(columns = ['month', 'decimal date', 'de-seasonalized', '#days', 'st.dev of days', 'unc. of mon mean'], axis = 1)\n",
    "        co2_data = self.co2_averages(co2_data)\n",
    "        co2_data = co2_data.loc[co2_data['year'] > 1977]\n",
    "        co2_data = co2_data.reset_index()\n",
    "\n",
    "        celsius_data = pd.read_csv('graph.csv')\n",
    "        celsius_data = celsius_data.rename(columns = lambda x: x.strip())\n",
    "        celsius_data = celsius_data.drop(columns = ['Lowess(5)'], axis = 1)\n",
    "        celsius_data = celsius_data.loc[celsius_data['Year'] > 1977]\n",
    "        celsius_data = celsius_data.append(pd.DataFrame({'Year': [2022],\n",
    "                                          'No_Smoothing': [0.84] #interpolated as 2021 value, assuming the data follows a trend\n",
    "                                         }))\n",
    "        celsius_data = celsius_data.reset_index()                             \n",
    "\n",
    "        all_data = sea_ice_data\n",
    "        all_data['Global CO2'] = co2_data['monthly average']\n",
    "        all_data['Temp Diff From Average'] = celsius_data['No_Smoothing']\n",
    "        sea_ice_data.to_csv('sea_avg_multi.csv', index=False) #SEA ICE DATA TO A CSV\n",
    "        \n",
    "        #min max normalisation\n",
    "        all_data['Extent'] = (all_data['Extent'] - all_data['Extent'].min()) / (all_data['Extent'].max() - all_data['Extent'].min()) \n",
    "        all_data['Global CO2'] = (all_data['Global CO2'] - all_data['Global CO2'].min()) / (all_data['Global CO2'].max() - all_data['Global CO2'].min())\n",
    "        all_data['Temp Diff From Average'] = (all_data['Temp Diff From Average'] - all_data['Temp Diff From Average'].min()) / (all_data['Temp Diff From Average'].max() - all_data['Temp Diff From Average'].min()) \n",
    "        \n",
    "        print(sea_ice_data.head())\n",
    "        print(all_data.head())\n",
    "    \n",
    "    def sea_ice_averages(self, sea_ice_data):\n",
    "        sea_ice_data['Year'] = pd.to_numeric(sea_ice_data['Year'])\n",
    "        sea_ice_data['Extent'] = pd.to_numeric(sea_ice_data['Extent'])\n",
    "        \n",
    "        unique_vals = pd.unique(sea_ice_data['Year'])\n",
    "\n",
    "        yearly_averages = []\n",
    "        for i in unique_vals:\n",
    "            x = 0\n",
    "            y = 0\n",
    "            for index, row in sea_ice_data.iterrows():\n",
    "                if row['Year'] == i:\n",
    "                    x += row['Extent']\n",
    "                    y += 1\n",
    "                    sea_ice_data = sea_ice_data.drop(index, axis = 0)\n",
    "                else:\n",
    "                    break\n",
    "            yearly_averages.append(x / y)\n",
    "\n",
    "        sea_ice_data['Year'] = unique_vals\n",
    "        sea_ice_data['Extent'] = yearly_averages\n",
    "        sea_ice_data.to_csv('sea_avg.csv', index=False) #SEA ICE DATA TO A CSV\n",
    "        return sea_ice_data\n",
    "\n",
    "    def co2_averages(self, co2_data):\n",
    "        co2_data['year'] = pd.to_numeric(co2_data['year'])\n",
    "        co2_data['monthly average'] = pd.to_numeric(co2_data['monthly average'])\n",
    "        \n",
    "        unique_vals = pd.unique(co2_data['year'])\n",
    "\n",
    "        yearly_averages = []\n",
    "        for i in unique_vals:\n",
    "            x = 0\n",
    "            y = 0\n",
    "            for index, row in co2_data.iterrows():\n",
    "                if row['year'] == i:\n",
    "                    x += row['monthly average']\n",
    "                    y += 1\n",
    "                    co2_data = co2_data.drop(index, axis = 0)\n",
    "                else:\n",
    "                    break\n",
    "            yearly_averages.append(x / y)\n",
    "\n",
    "        co2_data['year'] = unique_vals\n",
    "        co2_data['monthly average'] = yearly_averages\n",
    "        return co2_data\n",
    "\n",
    "def main():\n",
    "    df = Preprocess()\n",
    "if __name__ == '__main__':\n",
    "    main()"
   ]
  },
  {
   "cell_type": "markdown",
   "id": "82377e01-9f01-462c-8ca6-767e0277c297",
   "metadata": {},
   "source": [
    "# Start reading code from here"
   ]
  },
  {
   "cell_type": "code",
   "execution_count": 356,
   "id": "5cfa4d6c-0c25-44f7-a002-0a2d1e8b00e2",
   "metadata": {},
   "outputs": [],
   "source": [
    "#importing libraries\n",
    "import pandas as pd\n",
    "import numpy as np\n",
    "import matplotlib.pyplot as plt\n",
    "import math"
   ]
  },
  {
   "cell_type": "code",
   "execution_count": 357,
   "id": "90224b76-afb6-411c-8e38-8a235775f8d2",
   "metadata": {},
   "outputs": [
    {
     "name": "stdout",
     "output_type": "stream",
     "text": [
      "(36, 4)\n",
      "(9, 4)\n"
     ]
    }
   ],
   "source": [
    "df = pd.read_csv('sea_avg_multi.csv')\n",
    "df.head()\n",
    "\n",
    "df = df.sample(frac=1, random_state=20).reset_index(drop=True) #shuffle dataframe\n",
    "df.head()\n",
    "\n",
    "#Splitting in train and test\n",
    "split = math.floor(df.shape[0]*0.2) #80-20% split\n",
    "test = df.head(n=split)\n",
    "train = df.drop(index=df.index[:split]).reset_index(drop=True)\n",
    "print(train.shape)\n",
    "print(test.shape)"
   ]
  },
  {
   "cell_type": "code",
   "execution_count": 358,
   "id": "5ca983fd-1492-4542-8a51-58969bf58fa7",
   "metadata": {},
   "outputs": [
    {
     "name": "stdout",
     "output_type": "stream",
     "text": [
      "(36, 3) (9, 3) (36,) (9,)\n",
      "(3,) (3,)\n",
      "       Year  Global CO2  Temp Diff From Average\n",
      "0 -0.762153   -0.794758               -1.316136\n",
      "1 -0.514969   -0.603035               -0.408930\n",
      "2  0.061796   -0.061825                0.333329\n",
      "3  1.544906    1.706310                1.982794\n",
      "4 -1.668498   -1.506846               -0.903769\n",
      "<class 'pandas.core.frame.DataFrame'>\n",
      "(36, 4)\n",
      "<class 'numpy.ndarray'>\n"
     ]
    }
   ],
   "source": [
    "#Splitting X and Y\n",
    "y_train = train['Extent'].to_numpy()\n",
    "y_test = test['Extent'].to_numpy()\n",
    "\n",
    "X_train = train.drop(['Extent'],axis=1)\n",
    "X_test = test.drop(['Extent'],axis=1)\n",
    "print(X_train.shape, X_test.shape, y_train.shape, y_test.shape)\n",
    "\n",
    "#Z normalisation\n",
    "mu = np.mean(X_train,axis=0)\n",
    "sigma = np.std(X_train,axis=0)\n",
    "print(mu.shape, sigma.shape)\n",
    "\n",
    "X_train = (X_train-mu)/sigma\n",
    "print(X_train.head())\n",
    "print(type(X_train))\n",
    "\n",
    "#Adding column of 1 in X to multiply with theta0\n",
    "X_zero = np.ones((X_train.shape[0],1))\n",
    "X_train = np.hstack((X_zero,X_train))\n",
    "print(X_train.shape)\n",
    "print(type(X_train))"
   ]
  },
  {
   "cell_type": "code",
   "execution_count": 359,
   "id": "bfdd1cb4-1215-48d7-bb04-e908af70e9cc",
   "metadata": {},
   "outputs": [],
   "source": [
    "class multiLinearRegression:\n",
    "    def __init__(self):\n",
    "        print(\"Regressor created\")\n",
    "        \n",
    "    def predict(self, X,theta):\n",
    "        return np.dot(X,theta)\n",
    "\n",
    "    def error(self, X,y,theta):\n",
    "        m = X.shape[0]\n",
    "        e = 0.0\n",
    "        y_hat = self.predict(X,theta)\n",
    "        e = (np.sum((y-y_hat)**2))/m\n",
    "        \n",
    "        return e\n",
    "\n",
    "    def r2_score(self, X,y):\n",
    "        y_hat = self.predict(X,theta)\n",
    "        num = np.sum((y-y_hat)**2)\n",
    "        denom = np.sum((y-y.mean())**2)\n",
    "        score = (1-num/denom)\n",
    "        \n",
    "        return score*100\n",
    "\n",
    "    def gradient(self, X,y,theta):\n",
    "        m = X.shape[0]\n",
    "        y_hat = self.predict(X,theta)\n",
    "        grad = (np.dot(X.T,(y_hat-y)))/m\n",
    "        \n",
    "        return grad\n",
    "\n",
    "    def fit(self, X,y,learning_rate=0.05,max_epochs=100):\n",
    "        n = X.shape[1]\n",
    "        theta = np.zeros((n,))\n",
    "        error_list = []\n",
    "\n",
    "        for i in range(max_epochs):\n",
    "            e = self.error(X,y,theta)\n",
    "            error_list.append(e)\n",
    "\n",
    "            grad = self.gradient(X,y,theta)\n",
    "            theta = theta - learning_rate*grad\n",
    "\n",
    "        return theta,error_list\n",
    "\n",
    "    def test_preprocess(self, X):\n",
    "        X = (X-mu)/sigma\n",
    "        X_zero = np.ones((X.shape[0],1))\n",
    "        X = np.hstack((X_zero,X))\n",
    "        \n",
    "        return X"
   ]
  },
  {
   "cell_type": "code",
   "execution_count": 360,
   "id": "5f9930e3-60fd-4179-aeaa-fdbe781ebf1a",
   "metadata": {},
   "outputs": [
    {
     "name": "stdout",
     "output_type": "stream",
     "text": [
      "Regressor created\n"
     ]
    }
   ],
   "source": [
    "learning_rate = 0.1\n",
    "epochs = 500\n",
    "model = multiLinearRegression()\n",
    "theta, error_list = model.fit(X_train,y_train,learning_rate,epochs)"
   ]
  },
  {
   "cell_type": "code",
   "execution_count": 361,
   "id": "00a85023-39cb-4632-843a-4482e9fac4dd",
   "metadata": {},
   "outputs": [
    {
     "name": "stdout",
     "output_type": "stream",
     "text": [
      "Value of weights are:  [11.29327245 -0.20826991 -0.17998155 -0.24349033]\n"
     ]
    }
   ],
   "source": [
    "print(\"Value of weights are: \",theta)"
   ]
  },
  {
   "cell_type": "code",
   "execution_count": 362,
   "id": "1be8ea27-3563-4acd-96c4-bdd6fa865e68",
   "metadata": {},
   "outputs": [
    {
     "data": {
      "image/png": "[encoded data removed]",
      "text/plain": [
       "<Figure size 432x288 with 1 Axes>"
      ]
     },
     "metadata": {
      "needs_background": "light"
     },
     "output_type": "display_data"
    }
   ],
   "source": [
    "#Plotting error\n",
    "plt.plot(error_list)\n",
    "plt.show()"
   ]
  },
  {
   "cell_type": "code",
   "execution_count": 363,
   "id": "5c2c8ace-14d6-471d-84c9-5f26a8fd8161",
   "metadata": {},
   "outputs": [
    {
     "name": "stdout",
     "output_type": "stream",
     "text": [
      "MSE on test set is:  0.028605078869859486\n",
      "R^2 score on test is:  95.9213030863581\n"
     ]
    }
   ],
   "source": [
    "#Evaluation on test set\n",
    "X_test = model.test_preprocess(X_test)\n",
    "print(\"MSE on test set is: \",model.error(X_test,y_test,theta))\n",
    "print(\"R^2 score on test is: \",model.r2_score(X_test,y_test))"
   ]
  },
  {
   "cell_type": "markdown",
   "id": "c8e6c1df-26e2-4066-8bbe-68e40344e61c",
   "metadata": {},
   "source": [
    "### Predict ice extent for any given set of features by passing it through test process and calling the method predict"
   ]
  },
  {
   "cell_type": "markdown",
   "id": "7ec7ad6c-a493-4776-8698-b705d032acb9",
   "metadata": {},
   "source": [
    "# Code for predicting the year when ice extent is going to hit zero"
   ]
  },
  {
   "cell_type": "code",
   "execution_count": 364,
   "id": "106b0d96-5ebb-43fc-bfa9-d103a78eb1b7",
   "metadata": {},
   "outputs": [
    {
     "name": "stdout",
     "output_type": "stream",
     "text": [
      "(36, 2)\n",
      "(9, 2)\n"
     ]
    }
   ],
   "source": [
    "df = pd.read_csv('sea_avg.csv')\n",
    "df.head()\n",
    "\n",
    "df = df.sample(frac=1, random_state=10).reset_index(drop=True) #shuffle dataframe\n",
    "df.head()\n",
    "\n",
    "#Splitting in train and test\n",
    "split = math.floor(df.shape[0]*0.2) #80-20% split\n",
    "test = df.head(n=split)\n",
    "train = df.drop(index=df.index[:split]).reset_index(drop=True)\n",
    "print(train.shape)\n",
    "print(test.shape)"
   ]
  },
  {
   "cell_type": "code",
   "execution_count": 365,
   "id": "04fc6b9e-df03-42a7-b5ab-afc63adecf15",
   "metadata": {},
   "outputs": [
    {
     "name": "stdout",
     "output_type": "stream",
     "text": [
      "(36, 1) (9, 1) (36,) (9,)\n",
      "(1,) (1,)\n",
      "       Year\n",
      "0 -1.097376\n",
      "1 -1.172339\n",
      "2 -1.472192\n",
      "3  1.151516\n",
      "4  1.301442\n",
      "<class 'pandas.core.frame.DataFrame'>\n",
      "(36, 2)\n",
      "<class 'numpy.ndarray'>\n"
     ]
    }
   ],
   "source": [
    "#Splitting X and Y\n",
    "y_train = train['Extent'].to_numpy()\n",
    "y_test = test['Extent'].to_numpy()\n",
    "\n",
    "X_train = train.drop(['Extent'],axis=1)\n",
    "X_ = X_train.copy()\n",
    "X_test = test.drop(['Extent'],axis=1)\n",
    "print(X_train.shape, X_test.shape, y_train.shape, y_test.shape)\n",
    "\n",
    "#Z normalisation\n",
    "mu = np.mean(X_train,axis=0)\n",
    "sigma = np.std(X_train,axis=0)\n",
    "print(mu.shape, sigma.shape)\n",
    "\n",
    "X_train = (X_train-mu)/sigma\n",
    "print(X_train.head())\n",
    "print(type(X_train))\n",
    "\n",
    "#Adding column of 1 in X to multiply with theta0\n",
    "X_zero = np.ones((X_train.shape[0],1))\n",
    "X_train = np.hstack((X_zero,X_train))\n",
    "print(X_train.shape)\n",
    "print(type(X_train))"
   ]
  },
  {
   "cell_type": "code",
   "execution_count": 366,
   "id": "20b59fc6-5b76-4ccb-abd8-3b851599e763",
   "metadata": {},
   "outputs": [],
   "source": [
    "class linearRegression:\n",
    "    def __init__(self):\n",
    "        print(\"Regressor created\")\n",
    "        \n",
    "    def predict(self, X,theta):\n",
    "        return np.dot(X,theta)\n",
    "\n",
    "    def error(self, X,y,theta):\n",
    "        m = X.shape[0]\n",
    "        e = 0.0\n",
    "        y_hat = self.predict(X,theta)\n",
    "        e = (np.sum((y-y_hat)**2))/m\n",
    "        \n",
    "        return e\n",
    "\n",
    "    def r2_score(self, X,y):\n",
    "        y_hat = self.predict(X,theta)\n",
    "        num = np.sum((y-y_hat)**2)\n",
    "        denom = np.sum((y-y.mean())**2)\n",
    "        score = (1-num/denom)\n",
    "        \n",
    "        return score*100\n",
    "\n",
    "    def gradient(self, X,y,theta):\n",
    "        m = X.shape[0]\n",
    "        y_hat = self.predict(X,theta)\n",
    "        grad = (np.dot(X.T,(y_hat-y)))/m\n",
    "        \n",
    "        return grad\n",
    "\n",
    "    def fit(self, X,y,learning_rate=0.05,max_epochs=100):\n",
    "        n = X.shape[1]\n",
    "        theta = np.zeros((n,))\n",
    "        error_list = []\n",
    "\n",
    "        for i in range(max_epochs):\n",
    "            e = self.error(X,y,theta)\n",
    "            error_list.append(e)\n",
    "\n",
    "            grad = self.gradient(X,y,theta)\n",
    "            theta = theta - learning_rate*grad\n",
    "\n",
    "        return theta,error_list\n",
    "\n",
    "    def test_preprocess(self, X):\n",
    "        X = (X-mu)/sigma\n",
    "        X_zero = np.ones((X.shape[0],1))\n",
    "        X = np.hstack((X_zero,X))\n",
    "        \n",
    "        return X"
   ]
  },
  {
   "cell_type": "code",
   "execution_count": 367,
   "id": "8f8007d2-6105-4aa3-902c-0ed8d174b1be",
   "metadata": {},
   "outputs": [
    {
     "name": "stdout",
     "output_type": "stream",
     "text": [
      "Regressor created\n"
     ]
    }
   ],
   "source": [
    "learning_rate = 0.1\n",
    "epochs = 200\n",
    "model = linearRegression()\n",
    "theta, error_list = model.fit(X_train,y_train,learning_rate,epochs)"
   ]
  },
  {
   "cell_type": "code",
   "execution_count": 368,
   "id": "567dc208-d396-4cc2-8777-947fb9fd1121",
   "metadata": {},
   "outputs": [
    {
     "name": "stdout",
     "output_type": "stream",
     "text": [
      "Learned weights are:  [11.36949157 -0.67294819]\n"
     ]
    }
   ],
   "source": [
    "print(\"Learned weights are: \",theta)"
   ]
  },
  {
   "cell_type": "code",
   "execution_count": 369,
   "id": "d37063a4-70d6-488e-8ee7-da9946a5112f",
   "metadata": {},
   "outputs": [
    {
     "data": {
      "image/png": "[encoded data removed]",
      "text/plain": [
       "<Figure size 432x288 with 1 Axes>"
      ]
     },
     "metadata": {
      "needs_background": "light"
     },
     "output_type": "display_data"
    }
   ],
   "source": [
    "#Plotting error\n",
    "plt.plot(error_list)\n",
    "plt.show()"
   ]
  },
  {
   "cell_type": "code",
   "execution_count": 370,
   "id": "d0569b08-b9bd-4988-bea8-8871d17b98b0",
   "metadata": {},
   "outputs": [
    {
     "name": "stdout",
     "output_type": "stream",
     "text": [
      "MSE on test set is:  0.059613523257420385\n",
      "R^2 score on test is:  87.75343194983189\n"
     ]
    }
   ],
   "source": [
    "#Evaluation on test set\n",
    "X_test = model.test_preprocess(X_test)\n",
    "print(\"MSE on test set is: \",model.error(X_test,y_test,theta))\n",
    "print(\"R^2 score on test is: \",model.r2_score(X_test,y_test))"
   ]
  },
  {
   "cell_type": "code",
   "execution_count": 371,
   "id": "e6bbb1ca-f624-4047-ac47-fc20bd8fc3c9",
   "metadata": {},
   "outputs": [
    {
     "data": {
      "image/png": "[encoded data removed]",
      "text/plain": [
       "<Figure size 432x288 with 1 Axes>"
      ]
     },
     "metadata": {
      "needs_background": "light"
     },
     "output_type": "display_data"
    }
   ],
   "source": [
    "#plotting fitted line\n",
    "y_hat = predict(X_train,theta)\n",
    "plt.scatter(X_['Year'],y_train)\n",
    "plt.plot(X_['Year'],y_hat, color='red')\n",
    "plt.show()"
   ]
  },
  {
   "cell_type": "code",
   "execution_count": 372,
   "id": "ceee3d79-8b55-4273-9558-49224ad66314",
   "metadata": {},
   "outputs": [],
   "source": [
    "#Takes numpy array as input instead of dataframe like in the method built in class\n",
    "def prediction(X_test):\n",
    "    df_test = pd.DataFrame(X_test, columns=['Year'])\n",
    "    df_test = (df_test-mu)/sigma\n",
    "    X_zero = np.ones((df_test.shape[0],1))\n",
    "    X_test = np.hstack((X_zero,df_test))\n",
    "    y_pred = predict(X_test,theta)\n",
    "    return y_pred"
   ]
  },
  {
   "cell_type": "code",
   "execution_count": 373,
   "id": "7fb24ca2-bd08-4e93-a5d3-72d5181beb4b",
   "metadata": {},
   "outputs": [
    {
     "name": "stdout",
     "output_type": "stream",
     "text": [
      "Year when ice extent hits 0 is:  2225\n"
     ]
    },
    {
     "data": {
      "image/png": "[encoded data removed]",
      "text/plain": [
       "<Figure size 432x288 with 1 Axes>"
      ]
     },
     "metadata": {
      "needs_background": "light"
     },
     "output_type": "display_data"
    }
   ],
   "source": [
    "#Predicting in which year ice extent would hit zero\n",
    "\n",
    "y_pred = []\n",
    "year = []\n",
    "yr = 1978\n",
    "while(True):\n",
    "    y_hat = prediction(np.array([yr]))\n",
    "    if(y_hat<0):\n",
    "        break\n",
    "    year.append(yr)\n",
    "    y_pred.append(y_hat)\n",
    "    yr = yr+1\n",
    "    \n",
    "print(\"Year when ice extent hits 0 is: \",year[-1])\n",
    "plt.scatter(df['Year'],df['Extent'])\n",
    "plt.plot(year,y_pred, color='red')\n",
    "#plt.plot(df[:,1],y_hat,c=\"red\")\n",
    "plt.scatter(year[-1],y_pred[-1],color='green')\n",
    "plt.show()"
   ]
  }
 ],
 "metadata": {
  "kernelspec": {
   "display_name": "Python 3 (ipykernel)",
   "language": "python",
   "name": "python3"
  },
  "language_info": {
   "codemirror_mode": {
    "name": "ipython",
    "version": 3
   },
   "file_extension": ".py",
   "mimetype": "text/x-python",
   "name": "python",
   "nbconvert_exporter": "python",
   "pygments_lexer": "ipython3",
   "version": "3.9.12"
  }
 },
 "nbformat": 4,
 "nbformat_minor": 5
}
