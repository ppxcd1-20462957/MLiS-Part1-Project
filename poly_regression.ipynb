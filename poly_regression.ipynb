{
 "cells": [
  {
   "cell_type": "code",
   "execution_count": 1,
   "id": "9da65ae8-7156-49c6-ae0c-b4db370928c2",
   "metadata": {},
   "outputs": [],
   "source": [
    "import pandas as pd\n",
    "import numpy as np\n",
    "import matplotlib.pyplot as plt"
   ]
  },
  {
   "cell_type": "code",
   "execution_count": 2,
   "id": "6139e847-527e-4479-adf3-d89cd0464432",
   "metadata": {},
   "outputs": [
    {
     "data": {
      "text/html": [
       "<div>\n",
       "<style scoped>\n",
       "    .dataframe tbody tr th:only-of-type {\n",
       "        vertical-align: middle;\n",
       "    }\n",
       "\n",
       "    .dataframe tbody tr th {\n",
       "        vertical-align: top;\n",
       "    }\n",
       "\n",
       "    .dataframe thead th {\n",
       "        text-align: right;\n",
       "    }\n",
       "</style>\n",
       "<table border=\"1\" class=\"dataframe\">\n",
       "  <thead>\n",
       "    <tr style=\"text-align: right;\">\n",
       "      <th></th>\n",
       "      <th>Year</th>\n",
       "      <th>Extent</th>\n",
       "      <th>Global CO2</th>\n",
       "      <th>Temp Diff From Average</th>\n",
       "    </tr>\n",
       "  </thead>\n",
       "  <tbody>\n",
       "    <tr>\n",
       "      <th>0</th>\n",
       "      <td>1978</td>\n",
       "      <td>12.487000</td>\n",
       "      <td>335.415000</td>\n",
       "      <td>0.07</td>\n",
       "    </tr>\n",
       "    <tr>\n",
       "      <th>1</th>\n",
       "      <td>1979</td>\n",
       "      <td>12.319560</td>\n",
       "      <td>336.835000</td>\n",
       "      <td>0.16</td>\n",
       "    </tr>\n",
       "    <tr>\n",
       "      <th>2</th>\n",
       "      <td>1980</td>\n",
       "      <td>12.334148</td>\n",
       "      <td>338.762500</td>\n",
       "      <td>0.26</td>\n",
       "    </tr>\n",
       "    <tr>\n",
       "      <th>3</th>\n",
       "      <td>1981</td>\n",
       "      <td>12.135486</td>\n",
       "      <td>340.120000</td>\n",
       "      <td>0.32</td>\n",
       "    </tr>\n",
       "    <tr>\n",
       "      <th>4</th>\n",
       "      <td>1982</td>\n",
       "      <td>12.439445</td>\n",
       "      <td>341.478333</td>\n",
       "      <td>0.14</td>\n",
       "    </tr>\n",
       "  </tbody>\n",
       "</table>\n",
       "</div>"
      ],
      "text/plain": [
       "   Year     Extent  Global CO2  Temp Diff From Average\n",
       "0  1978  12.487000  335.415000                    0.07\n",
       "1  1979  12.319560  336.835000                    0.16\n",
       "2  1980  12.334148  338.762500                    0.26\n",
       "3  1981  12.135486  340.120000                    0.32\n",
       "4  1982  12.439445  341.478333                    0.14"
      ]
     },
     "execution_count": 2,
     "metadata": {},
     "output_type": "execute_result"
    }
   ],
   "source": [
    "df = pd.read_csv('sea_avg_multi.csv')\n",
    "df.head()"
   ]
  },
  {
   "cell_type": "code",
   "execution_count": 3,
   "id": "ff75bc98-d5d9-427e-a734-b2689aa9a70b",
   "metadata": {},
   "outputs": [
    {
     "data": {
      "text/html": [
       "<div>\n",
       "<style scoped>\n",
       "    .dataframe tbody tr th:only-of-type {\n",
       "        vertical-align: middle;\n",
       "    }\n",
       "\n",
       "    .dataframe tbody tr th {\n",
       "        vertical-align: top;\n",
       "    }\n",
       "\n",
       "    .dataframe thead th {\n",
       "        text-align: right;\n",
       "    }\n",
       "</style>\n",
       "<table border=\"1\" class=\"dataframe\">\n",
       "  <thead>\n",
       "    <tr style=\"text-align: right;\">\n",
       "      <th></th>\n",
       "      <th>Year</th>\n",
       "      <th>Global CO2</th>\n",
       "      <th>Temp Diff From Average</th>\n",
       "    </tr>\n",
       "  </thead>\n",
       "  <tbody>\n",
       "    <tr>\n",
       "      <th>0</th>\n",
       "      <td>1978</td>\n",
       "      <td>335.415000</td>\n",
       "      <td>0.07</td>\n",
       "    </tr>\n",
       "    <tr>\n",
       "      <th>1</th>\n",
       "      <td>1979</td>\n",
       "      <td>336.835000</td>\n",
       "      <td>0.16</td>\n",
       "    </tr>\n",
       "    <tr>\n",
       "      <th>2</th>\n",
       "      <td>1980</td>\n",
       "      <td>338.762500</td>\n",
       "      <td>0.26</td>\n",
       "    </tr>\n",
       "    <tr>\n",
       "      <th>3</th>\n",
       "      <td>1981</td>\n",
       "      <td>340.120000</td>\n",
       "      <td>0.32</td>\n",
       "    </tr>\n",
       "    <tr>\n",
       "      <th>4</th>\n",
       "      <td>1982</td>\n",
       "      <td>341.478333</td>\n",
       "      <td>0.14</td>\n",
       "    </tr>\n",
       "  </tbody>\n",
       "</table>\n",
       "</div>"
      ],
      "text/plain": [
       "   Year  Global CO2  Temp Diff From Average\n",
       "0  1978  335.415000                    0.07\n",
       "1  1979  336.835000                    0.16\n",
       "2  1980  338.762500                    0.26\n",
       "3  1981  340.120000                    0.32\n",
       "4  1982  341.478333                    0.14"
      ]
     },
     "execution_count": 3,
     "metadata": {},
     "output_type": "execute_result"
    }
   ],
   "source": [
    "#Splitting X and Y\n",
    "y = df['Extent'].to_numpy()\n",
    "X = df.drop(['Extent'],axis=1)\n",
    "X.head()"
   ]
  },
  {
   "cell_type": "code",
   "execution_count": 4,
   "id": "4bd28bcd-824e-473a-a9d3-369884e39a5a",
   "metadata": {},
   "outputs": [
    {
     "data": {
      "text/html": [
       "<div>\n",
       "<style scoped>\n",
       "    .dataframe tbody tr th:only-of-type {\n",
       "        vertical-align: middle;\n",
       "    }\n",
       "\n",
       "    .dataframe tbody tr th {\n",
       "        vertical-align: top;\n",
       "    }\n",
       "\n",
       "    .dataframe thead th {\n",
       "        text-align: right;\n",
       "    }\n",
       "</style>\n",
       "<table border=\"1\" class=\"dataframe\">\n",
       "  <thead>\n",
       "    <tr style=\"text-align: right;\">\n",
       "      <th></th>\n",
       "      <th>Year</th>\n",
       "      <th>Global CO2</th>\n",
       "      <th>Temp Diff From Average</th>\n",
       "      <th>Year^2</th>\n",
       "      <th>Global CO2^2</th>\n",
       "      <th>Temp Diff From Average^2</th>\n",
       "      <th>Year^3</th>\n",
       "      <th>Global CO2^3</th>\n",
       "      <th>Temp Diff From Average^3</th>\n",
       "    </tr>\n",
       "  </thead>\n",
       "  <tbody>\n",
       "    <tr>\n",
       "      <th>0</th>\n",
       "      <td>1978</td>\n",
       "      <td>335.415000</td>\n",
       "      <td>0.07</td>\n",
       "      <td>3912484</td>\n",
       "      <td>112503.222225</td>\n",
       "      <td>0.0049</td>\n",
       "      <td>7738893352</td>\n",
       "      <td>3.773527e+07</td>\n",
       "      <td>0.000343</td>\n",
       "    </tr>\n",
       "    <tr>\n",
       "      <th>1</th>\n",
       "      <td>1979</td>\n",
       "      <td>336.835000</td>\n",
       "      <td>0.16</td>\n",
       "      <td>3916441</td>\n",
       "      <td>113457.817225</td>\n",
       "      <td>0.0256</td>\n",
       "      <td>7750636739</td>\n",
       "      <td>3.821656e+07</td>\n",
       "      <td>0.004096</td>\n",
       "    </tr>\n",
       "    <tr>\n",
       "      <th>2</th>\n",
       "      <td>1980</td>\n",
       "      <td>338.762500</td>\n",
       "      <td>0.26</td>\n",
       "      <td>3920400</td>\n",
       "      <td>114760.031406</td>\n",
       "      <td>0.0676</td>\n",
       "      <td>7762392000</td>\n",
       "      <td>3.887640e+07</td>\n",
       "      <td>0.017576</td>\n",
       "    </tr>\n",
       "    <tr>\n",
       "      <th>3</th>\n",
       "      <td>1981</td>\n",
       "      <td>340.120000</td>\n",
       "      <td>0.32</td>\n",
       "      <td>3924361</td>\n",
       "      <td>115681.614400</td>\n",
       "      <td>0.1024</td>\n",
       "      <td>7774159141</td>\n",
       "      <td>3.934563e+07</td>\n",
       "      <td>0.032768</td>\n",
       "    </tr>\n",
       "    <tr>\n",
       "      <th>4</th>\n",
       "      <td>1982</td>\n",
       "      <td>341.478333</td>\n",
       "      <td>0.14</td>\n",
       "      <td>3928324</td>\n",
       "      <td>116607.452136</td>\n",
       "      <td>0.0196</td>\n",
       "      <td>7785938168</td>\n",
       "      <td>3.981892e+07</td>\n",
       "      <td>0.002744</td>\n",
       "    </tr>\n",
       "  </tbody>\n",
       "</table>\n",
       "</div>"
      ],
      "text/plain": [
       "   Year  Global CO2  Temp Diff From Average   Year^2   Global CO2^2  \\\n",
       "0  1978  335.415000                    0.07  3912484  112503.222225   \n",
       "1  1979  336.835000                    0.16  3916441  113457.817225   \n",
       "2  1980  338.762500                    0.26  3920400  114760.031406   \n",
       "3  1981  340.120000                    0.32  3924361  115681.614400   \n",
       "4  1982  341.478333                    0.14  3928324  116607.452136   \n",
       "\n",
       "   Temp Diff From Average^2      Year^3  Global CO2^3  \\\n",
       "0                    0.0049  7738893352  3.773527e+07   \n",
       "1                    0.0256  7750636739  3.821656e+07   \n",
       "2                    0.0676  7762392000  3.887640e+07   \n",
       "3                    0.1024  7774159141  3.934563e+07   \n",
       "4                    0.0196  7785938168  3.981892e+07   \n",
       "\n",
       "   Temp Diff From Average^3  \n",
       "0                  0.000343  \n",
       "1                  0.004096  \n",
       "2                  0.017576  \n",
       "3                  0.032768  \n",
       "4                  0.002744  "
      ]
     },
     "execution_count": 4,
     "metadata": {},
     "output_type": "execute_result"
    }
   ],
   "source": [
    "degree = 3\n",
    "col_list = X.columns\n",
    "\n",
    "for i in range(2,degree+1):\n",
    "    for col in col_list:\n",
    "        new_degree = str(i)\n",
    "        col_degree = col+'^'+new_degree\n",
    "        X[col_degree] = X[col]**i\n",
    "\n",
    "X.head()"
   ]
  },
  {
   "cell_type": "code",
   "execution_count": 5,
   "id": "992e6190-ae76-4c91-afa7-ca3580dd251a",
   "metadata": {},
   "outputs": [
    {
     "name": "stdout",
     "output_type": "stream",
     "text": [
      "(9,) (9,)\n",
      "       Year  Global CO2  Temp Diff From Average    Year^2  Global CO2^2  \\\n",
      "0 -1.693979   -1.540209               -1.708614 -1.687902     -1.482268   \n",
      "1 -1.616980   -1.481698               -1.361578 -1.611731     -1.429981   \n",
      "2 -1.539981   -1.402275               -0.975984 -1.535521     -1.358653   \n",
      "3 -1.462982   -1.346340               -0.744627 -1.459273     -1.308174   \n",
      "4 -1.385983   -1.290370               -1.438697 -1.382987     -1.257461   \n",
      "\n",
      "   Temp Diff From Average^2    Year^3  Global CO2^3  Temp Diff From Average^3  \n",
      "0                 -1.124153 -1.681836     -1.425796                 -0.840042  \n",
      "1                 -1.052694 -1.606487     -1.379229                 -0.827030  \n",
      "2                 -0.907704 -1.531062     -1.315389                 -0.780292  \n",
      "3                 -0.787570 -1.455560     -1.269989                 -0.727619  \n",
      "4                 -1.073407 -1.379982     -1.224197                 -0.831718  \n",
      "<class 'pandas.core.frame.DataFrame'>\n",
      "(45, 10)\n",
      "<class 'numpy.ndarray'>\n"
     ]
    }
   ],
   "source": [
    "#Z normalisation\n",
    "u = np.mean(X,axis=0)\n",
    "std = np.std(X,axis=0)\n",
    "print(u.shape, std.shape)\n",
    "\n",
    "X = (X-u)/std\n",
    "print(X.head())\n",
    "print(type(X))\n",
    "\n",
    "ones = np.ones((X.shape[0],1))\n",
    "X = np.hstack((ones,X))\n",
    "print(X.shape)\n",
    "print(type(X))\n",
    "\n",
    "#Just to see if X is right, we dont need a dataframe after we got numpy array for X and y\n",
    "#df = pd.DataFrame(X)\n",
    "#df.head()"
   ]
  },
  {
   "cell_type": "code",
   "execution_count": 6,
   "id": "f52fa10c-e75b-419d-91af-b25d4b979af9",
   "metadata": {},
   "outputs": [],
   "source": [
    "#vectorised stuff instead of running loops and storing values in list\n",
    "def hypothesis(X,theta):\n",
    "    return np.dot(X,theta)\n",
    "\n",
    "def error(X,y,theta):\n",
    "    e = 0.0\n",
    "    m = X.shape[0]\n",
    "    y_hat = hypothesis(X,theta)\n",
    "    e = np.sum((y-y_hat)**2)\n",
    "    \n",
    "    return e/m\n",
    "\n",
    "def gradient(X,y,theta):\n",
    "    y_hat = hypothesis(X,theta)\n",
    "    grad = np.dot(X.T,(y_hat-y))\n",
    "    m = X.shape[0]\n",
    "    \n",
    "    return grad/m\n",
    "\n",
    "def gradient_descent(X,y,learning_rate,max_epochs):\n",
    "    n = X.shape[1]\n",
    "    theta = np.zeros((n,))\n",
    "    error_list = []\n",
    "    \n",
    "    for i in range(max_epochs):\n",
    "        e = error(X,y,theta)\n",
    "        error_list.append(e)\n",
    "        \n",
    "        grad = gradient(X,y,theta)\n",
    "        theta = theta - learning_rate*grad\n",
    "        \n",
    "    return theta,error_list"
   ]
  },
  {
   "cell_type": "code",
   "execution_count": 7,
   "id": "7cdaa98b-7801-439f-8e2c-0581000c4c7a",
   "metadata": {},
   "outputs": [],
   "source": [
    "learning_rate = 0.1\n",
    "epochs = 100\n",
    "theta, error_list = gradient_descent(X,y,learning_rate,epochs)"
   ]
  },
  {
   "cell_type": "code",
   "execution_count": 8,
   "id": "0c8cb787-32c4-460f-824b-3f63a2ea22fa",
   "metadata": {},
   "outputs": [
    {
     "data": {
      "image/png": "[encoded data removed]",
      "text/plain": [
       "<Figure size 432x288 with 1 Axes>"
      ]
     },
     "metadata": {
      "needs_background": "light"
     },
     "output_type": "display_data"
    }
   ],
   "source": [
    "#Plotting error\n",
    "plt.plot(error_list)\n",
    "plt.show()"
   ]
  },
  {
   "cell_type": "code",
   "execution_count": 9,
   "id": "ac6d280e-8f57-4c60-aede-3bda974bc63d",
   "metadata": {},
   "outputs": [
    {
     "data": {
      "text/plain": [
       "array([12.43648251, 12.35332963, 12.25641334, 12.18519955, 12.26480166,\n",
       "       12.12535531, 12.18420951, 12.17408769, 12.10761156, 11.98453971,\n",
       "       11.89709587, 11.94427808, 11.78848331, 11.79287552, 11.88309829,\n",
       "       11.84908176, 11.76243612, 11.63455703, 11.68283777, 11.55287881,\n",
       "       11.39893224, 11.53103815, 11.49241248, 11.3534363 , 11.24191817,\n",
       "       11.20865918, 11.23744546, 11.08199413, 11.07738851, 11.01425817,\n",
       "       11.07650851, 10.94930532, 10.84628461, 10.90478336, 10.83109065,\n",
       "       10.77017952, 10.66881343, 10.47489562, 10.30993409, 10.36332986,\n",
       "       10.39481789, 10.21547659, 10.12850192, 10.27334209, 10.23304828])"
      ]
     },
     "execution_count": 9,
     "metadata": {},
     "output_type": "execute_result"
    }
   ],
   "source": [
    "y_hat = hypothesis(X,theta)\n",
    "y_hat"
   ]
  },
  {
   "cell_type": "code",
   "execution_count": 10,
   "id": "7d5e2bfc-1342-4298-bee0-7156889f50d8",
   "metadata": {},
   "outputs": [
    {
     "data": {
      "text/plain": [
       "90.43343382008375"
      ]
     },
     "execution_count": 10,
     "metadata": {},
     "output_type": "execute_result"
    }
   ],
   "source": [
    "def r2_score(y,y_hat):\n",
    "    num = np.sum((y-y_hat)**2)\n",
    "    denom = np.sum((y-y.mean())**2)\n",
    "    score = (1-num/denom)\n",
    "    return score*100\n",
    "\n",
    "r2_score(y,y_hat)"
   ]
  },
  {
   "cell_type": "code",
   "execution_count": 11,
   "id": "ad01f0e9-71bc-4b0d-ad58-f6fd3ecc5339",
   "metadata": {},
   "outputs": [
    {
     "name": "stdout",
     "output_type": "stream",
     "text": [
      "[-1.69397911 -1.61698006 -1.53998101 -1.46298196 -1.38598291 -1.30898386\n",
      " -1.23198481 -1.15498576 -1.0779867  -1.00098765 -0.9239886  -0.84698955\n",
      " -0.7699905  -0.69299145 -0.6159924  -0.53899335 -0.4619943  -0.38499525\n",
      " -0.3079962  -0.23099715 -0.1539981  -0.07699905  0.          0.07699905\n",
      "  0.1539981   0.23099715  0.3079962   0.38499525  0.4619943   0.53899335\n",
      "  0.6159924   0.69299145  0.7699905   0.84698955  0.9239886   1.00098765\n",
      "  1.0779867   1.15498576  1.23198481  1.30898386  1.38598291  1.46298196\n",
      "  1.53998101  1.61698006  1.69397911]\n"
     ]
    },
    {
     "data": {
      "image/png": "[encoded data removed]",
      "text/plain": [
       "<Figure size 432x288 with 1 Axes>"
      ]
     },
     "metadata": {
      "needs_background": "light"
     },
     "output_type": "display_data"
    }
   ],
   "source": [
    "import matplotlib.pyplot as plt\n",
    "#x = df2['Year'].to_numpy()\n",
    "print(X[:,1])\n",
    "plt.scatter(X[:,1],y)\n",
    "plt.plot(X[:,2],y_hat,c=\"red\")\n",
    "plt.show()"
   ]
  }
 ],
 "metadata": {
  "kernelspec": {
   "display_name": "Python 3 (ipykernel)",
   "language": "python",
   "name": "python3"
  },
  "language_info": {
   "codemirror_mode": {
    "name": "ipython",
    "version": 3
   },
   "file_extension": ".py",
   "mimetype": "text/x-python",
   "name": "python",
   "nbconvert_exporter": "python",
   "pygments_lexer": "ipython3",
   "version": "3.9.12"
  }
 },
 "nbformat": 4,
 "nbformat_minor": 5
}
