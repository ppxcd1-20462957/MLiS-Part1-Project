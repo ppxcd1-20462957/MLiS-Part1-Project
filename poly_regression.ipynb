{
 "cells": [
  {
   "cell_type": "code",
   "execution_count": 1,
   "id": "9da65ae8-7156-49c6-ae0c-b4db370928c2",
   "metadata": {},
   "outputs": [],
   "source": [
    "#importing libraries\n",
    "import pandas as pd\n",
    "import numpy as np\n",
    "import matplotlib.pyplot as plt\n",
    "import math"
   ]
  },
  {
   "cell_type": "code",
   "execution_count": 2,
   "id": "6139e847-527e-4479-adf3-d89cd0464432",
   "metadata": {},
   "outputs": [
    {
     "name": "stdout",
     "output_type": "stream",
     "text": [
      "(36, 4)\n",
      "(9, 4)\n"
     ]
    }
   ],
   "source": [
    "df = pd.read_csv('sea_avg_multi.csv')\n",
    "df.head()\n",
    "\n",
    "df = df.sample(frac=1, random_state=20).reset_index(drop=True) #shuffle dataframe\n",
    "df.head()\n",
    "\n",
    "#Splitting in train and test\n",
    "split = math.floor(df.shape[0]*0.2) #80-20% split\n",
    "test = df.head(n=split)\n",
    "train = df.drop(index=df.index[:split]).reset_index(drop=True)\n",
    "print(train.shape)\n",
    "print(test.shape)"
   ]
  },
  {
   "cell_type": "code",
   "execution_count": 3,
   "id": "ff75bc98-d5d9-427e-a734-b2689aa9a70b",
   "metadata": {},
   "outputs": [
    {
     "name": "stdout",
     "output_type": "stream",
     "text": [
      "(36, 3) (9, 3) (36,) (9,)\n"
     ]
    }
   ],
   "source": [
    "#Splitting X and Y\n",
    "y_train = train['Extent'].to_numpy()\n",
    "y_test = test['Extent'].to_numpy()\n",
    "\n",
    "X_train = train.drop(['Extent'],axis=1)\n",
    "X_test = test.drop(['Extent'],axis=1)\n",
    "print(X_train.shape, X_test.shape, y_train.shape, y_test.shape)"
   ]
  },
  {
   "cell_type": "code",
   "execution_count": 4,
   "id": "4bd28bcd-824e-473a-a9d3-369884e39a5a",
   "metadata": {},
   "outputs": [
    {
     "data": {
      "text/html": [
       "<div>\n",
       "<style scoped>\n",
       "    .dataframe tbody tr th:only-of-type {\n",
       "        vertical-align: middle;\n",
       "    }\n",
       "\n",
       "    .dataframe tbody tr th {\n",
       "        vertical-align: top;\n",
       "    }\n",
       "\n",
       "    .dataframe thead th {\n",
       "        text-align: right;\n",
       "    }\n",
       "</style>\n",
       "<table border=\"1\" class=\"dataframe\">\n",
       "  <thead>\n",
       "    <tr style=\"text-align: right;\">\n",
       "      <th></th>\n",
       "      <th>Year</th>\n",
       "      <th>Global CO2</th>\n",
       "      <th>Temp Diff From Average</th>\n",
       "      <th>Year^2</th>\n",
       "      <th>Global CO2^2</th>\n",
       "      <th>Temp Diff From Average^2</th>\n",
       "      <th>Year^3</th>\n",
       "      <th>Global CO2^3</th>\n",
       "      <th>Temp Diff From Average^3</th>\n",
       "    </tr>\n",
       "  </thead>\n",
       "  <tbody>\n",
       "    <tr>\n",
       "      <th>0</th>\n",
       "      <td>1992</td>\n",
       "      <td>356.545833</td>\n",
       "      <td>0.22</td>\n",
       "      <td>3968064</td>\n",
       "      <td>127124.931267</td>\n",
       "      <td>0.0484</td>\n",
       "      <td>7904383488</td>\n",
       "      <td>4.532586e+07</td>\n",
       "      <td>0.010648</td>\n",
       "    </tr>\n",
       "    <tr>\n",
       "      <th>1</th>\n",
       "      <td>1995</td>\n",
       "      <td>360.968333</td>\n",
       "      <td>0.44</td>\n",
       "      <td>3980025</td>\n",
       "      <td>130298.137669</td>\n",
       "      <td>0.1936</td>\n",
       "      <td>7940149875</td>\n",
       "      <td>4.703350e+07</td>\n",
       "      <td>0.085184</td>\n",
       "    </tr>\n",
       "    <tr>\n",
       "      <th>2</th>\n",
       "      <td>2002</td>\n",
       "      <td>373.452500</td>\n",
       "      <td>0.62</td>\n",
       "      <td>4008004</td>\n",
       "      <td>139466.769756</td>\n",
       "      <td>0.3844</td>\n",
       "      <td>8024024008</td>\n",
       "      <td>5.208421e+07</td>\n",
       "      <td>0.238328</td>\n",
       "    </tr>\n",
       "    <tr>\n",
       "      <th>3</th>\n",
       "      <td>2020</td>\n",
       "      <td>414.238333</td>\n",
       "      <td>1.02</td>\n",
       "      <td>4080400</td>\n",
       "      <td>171593.396803</td>\n",
       "      <td>1.0404</td>\n",
       "      <td>8242408000</td>\n",
       "      <td>7.108056e+07</td>\n",
       "      <td>1.061208</td>\n",
       "    </tr>\n",
       "    <tr>\n",
       "      <th>4</th>\n",
       "      <td>1981</td>\n",
       "      <td>340.120000</td>\n",
       "      <td>0.32</td>\n",
       "      <td>3924361</td>\n",
       "      <td>115681.614400</td>\n",
       "      <td>0.1024</td>\n",
       "      <td>7774159141</td>\n",
       "      <td>3.934563e+07</td>\n",
       "      <td>0.032768</td>\n",
       "    </tr>\n",
       "  </tbody>\n",
       "</table>\n",
       "</div>"
      ],
      "text/plain": [
       "   Year  Global CO2  Temp Diff From Average   Year^2   Global CO2^2  \\\n",
       "0  1992  356.545833                    0.22  3968064  127124.931267   \n",
       "1  1995  360.968333                    0.44  3980025  130298.137669   \n",
       "2  2002  373.452500                    0.62  4008004  139466.769756   \n",
       "3  2020  414.238333                    1.02  4080400  171593.396803   \n",
       "4  1981  340.120000                    0.32  3924361  115681.614400   \n",
       "\n",
       "   Temp Diff From Average^2      Year^3  Global CO2^3  \\\n",
       "0                    0.0484  7904383488  4.532586e+07   \n",
       "1                    0.1936  7940149875  4.703350e+07   \n",
       "2                    0.3844  8024024008  5.208421e+07   \n",
       "3                    1.0404  8242408000  7.108056e+07   \n",
       "4                    0.1024  7774159141  3.934563e+07   \n",
       "\n",
       "   Temp Diff From Average^3  \n",
       "0                  0.010648  \n",
       "1                  0.085184  \n",
       "2                  0.238328  \n",
       "3                  1.061208  \n",
       "4                  0.032768  "
      ]
     },
     "execution_count": 4,
     "metadata": {},
     "output_type": "execute_result"
    }
   ],
   "source": [
    "degree = 3\n",
    "col_list = X_train.columns\n",
    "\n",
    "for i in range(2,degree+1):\n",
    "    for col in col_list:\n",
    "        new_degree = str(i)\n",
    "        col_degree = col+'^'+new_degree\n",
    "        X_train[col_degree] = X_train[col]**i\n",
    "\n",
    "X_train.head()"
   ]
  },
  {
   "cell_type": "code",
   "execution_count": 5,
   "id": "992e6190-ae76-4c91-afa7-ca3580dd251a",
   "metadata": {},
   "outputs": [
    {
     "name": "stdout",
     "output_type": "stream",
     "text": [
      "(9,) (9,)\n",
      "       Year  Global CO2  Temp Diff From Average    Year^2  Global CO2^2  \\\n",
      "0 -0.762153   -0.794758               -1.316136 -0.763455     -0.798783   \n",
      "1 -0.514969   -0.603035               -0.408930 -0.517217     -0.616968   \n",
      "2  0.061796   -0.061825                0.333329  0.058778     -0.091635   \n",
      "3  1.544906    1.706310                1.982794  1.549173      1.749116   \n",
      "4 -1.668498   -1.506846               -0.903769 -1.663156     -1.454448   \n",
      "\n",
      "   Temp Diff From Average^2    Year^3  Global CO2^3  Temp Diff From Average^3  \n",
      "0                 -1.056393 -0.764737     -0.801014                 -0.840268  \n",
      "1                 -0.546981 -0.519451     -0.629158                 -0.584861  \n",
      "2                  0.122412  0.055758     -0.120855                 -0.060095  \n",
      "3                  2.423889  1.553436      1.790935                  2.759604  \n",
      "4                 -0.866942 -1.657817     -1.402864                 -0.764471  \n",
      "<class 'pandas.core.frame.DataFrame'>\n",
      "(36, 10)\n",
      "<class 'numpy.ndarray'>\n"
     ]
    }
   ],
   "source": [
    "#Z normalisation\n",
    "mu = np.mean(X_train,axis=0)\n",
    "sigma = np.std(X_train,axis=0)\n",
    "print(mu.shape, sigma.shape)\n",
    "\n",
    "X_train = (X_train-mu)/sigma\n",
    "print(X_train.head())\n",
    "print(type(X_train))\n",
    "\n",
    "#Adding column of 1 in X to multiply with theta0\n",
    "X_zero = np.ones((X_train.shape[0],1))\n",
    "X_train = np.hstack((X_zero,X_train))\n",
    "print(X_train.shape)\n",
    "print(type(X_train))"
   ]
  },
  {
   "cell_type": "code",
   "execution_count": 10,
   "id": "f52fa10c-e75b-419d-91af-b25d4b979af9",
   "metadata": {},
   "outputs": [],
   "source": [
    "class polyLinearRegression:\n",
    "    def __init__(self):\n",
    "        print(\"Regressor created\")\n",
    "        \n",
    "    def predict(self, X,theta):\n",
    "        return np.dot(X,theta)\n",
    "\n",
    "    def error(self, X,y,theta):\n",
    "        m = X.shape[0]\n",
    "        e = 0.0\n",
    "        y_hat = self.predict(X,theta)\n",
    "        e = (np.sum((y-y_hat)**2))/m\n",
    "        \n",
    "        return e\n",
    "\n",
    "    def r2_score(self, X,y):\n",
    "        y_hat = self.predict(X,theta)\n",
    "        num = np.sum((y-y_hat)**2)\n",
    "        denom = np.sum((y-y.mean())**2)\n",
    "        score = (1-num/denom)\n",
    "        \n",
    "        return score*100\n",
    "\n",
    "    def gradient(self, X,y,theta):\n",
    "        m = X.shape[0]\n",
    "        y_hat = self.predict(X,theta)\n",
    "        grad = (np.dot(X.T,(y_hat-y)))/m\n",
    "        \n",
    "        return grad\n",
    "\n",
    "    def fit(self, X,y,learning_rate=0.05,max_epochs=100):\n",
    "        n = X.shape[1]\n",
    "        theta = np.zeros((n,))\n",
    "        error_list = []\n",
    "\n",
    "        for i in range(max_epochs):\n",
    "            e = self.error(X,y,theta)\n",
    "            error_list.append(e)\n",
    "\n",
    "            grad = self.gradient(X,y,theta)\n",
    "            theta = theta - learning_rate*grad\n",
    "\n",
    "        return theta,error_list\n",
    "\n",
    "    def test_preprocess(self, X,degree):\n",
    "        col_list = X.columns\n",
    "\n",
    "        for i in range(2,degree+1):\n",
    "            for col in col_list:\n",
    "                new_degree = str(i)\n",
    "                col_degree = col+'^'+new_degree\n",
    "                X[col_degree] = X[col]**i\n",
    "        \n",
    "        X = (X-mu)/sigma\n",
    "        X_zero = np.ones((X.shape[0],1))\n",
    "        X = np.hstack((X_zero,X))\n",
    "        \n",
    "        return X"
   ]
  },
  {
   "cell_type": "code",
   "execution_count": 11,
   "id": "7cdaa98b-7801-439f-8e2c-0581000c4c7a",
   "metadata": {},
   "outputs": [
    {
     "name": "stdout",
     "output_type": "stream",
     "text": [
      "Regressor created\n"
     ]
    }
   ],
   "source": [
    "learning_rate = 0.1\n",
    "epochs = 200\n",
    "model = polyLinearRegression()\n",
    "theta, error_list = model.fit(X_train,y_train,learning_rate,epochs)"
   ]
  },
  {
   "cell_type": "code",
   "execution_count": 12,
   "id": "1c178f33-5f7e-4ccd-bcd3-0c368c8d1b91",
   "metadata": {},
   "outputs": [
    {
     "name": "stdout",
     "output_type": "stream",
     "text": [
      "Learned weights are:  [ 1.12932724e+01 -1.06020550e-01 -5.39877480e-02 -1.22446717e-01\n",
      " -1.04282625e-01 -2.67670202e-02 -9.01372514e-02 -1.02526803e-01\n",
      "  2.19955998e-03 -3.27245298e-02]\n"
     ]
    }
   ],
   "source": [
    "print(\"Learned weights are: \",theta)"
   ]
  },
  {
   "cell_type": "code",
   "execution_count": 15,
   "id": "0c8cb787-32c4-460f-824b-3f63a2ea22fa",
   "metadata": {},
   "outputs": [
    {
     "data": {
      "image/png": "[encoded data removed]",
      "text/plain": [
       "<Figure size 432x288 with 1 Axes>"
      ]
     },
     "metadata": {
      "needs_background": "light"
     },
     "output_type": "display_data"
    }
   ],
   "source": [
    "#Plotting error\n",
    "plt.plot(error_list)\n",
    "plt.xlabel('Epochs')\n",
    "plt.ylabel('MSE')\n",
    "plt.title('Mean Squared error VS Epochs')\n",
    "plt.show()"
   ]
  },
  {
   "cell_type": "code",
   "execution_count": 14,
   "id": "ac6d280e-8f57-4c60-aede-3bda974bc63d",
   "metadata": {},
   "outputs": [
    {
     "name": "stdout",
     "output_type": "stream",
     "text": [
      "MSE on test set is:  0.03574176984598722\n",
      "R^2 score on test is:  94.90370758905571\n"
     ]
    }
   ],
   "source": [
    "#Evaluation on test set\n",
    "degree=3\n",
    "X_test = model.test_preprocess(X_test,degree)\n",
    "print(\"MSE on test set is: \",model.error(X_test,y_test,theta))\n",
    "print(\"R^2 score on test is: \",model.r2_score(X_test,y_test))"
   ]
  },
  {
   "cell_type": "code",
   "execution_count": null,
   "id": "c831149d-f0fb-44c4-9f20-1938a8f4428f",
   "metadata": {},
   "outputs": [],
   "source": []
  }
 ],
 "metadata": {
  "kernelspec": {
   "display_name": "Python 3 (ipykernel)",
   "language": "python",
   "name": "python3"
  },
  "language_info": {
   "codemirror_mode": {
    "name": "ipython",
    "version": 3
   },
   "file_extension": ".py",
   "mimetype": "text/x-python",
   "name": "python",
   "nbconvert_exporter": "python",
   "pygments_lexer": "ipython3",
   "version": "3.9.12"
  }
 },
 "nbformat": 4,
 "nbformat_minor": 5
}
