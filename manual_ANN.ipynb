{
 "cells": [
  {
   "cell_type": "code",
   "execution_count": 7,
   "id": "1a39c012-edc4-4f3b-898a-320cd9be0f0c",
   "metadata": {},
   "outputs": [],
   "source": [
    "#importing libraries\n",
    "import pandas as pd\n",
    "import numpy as np\n",
    "import matplotlib.pyplot as plt\n",
    "import math"
   ]
  },
  {
   "cell_type": "code",
   "execution_count": 82,
   "id": "f759f102-d5fe-4023-9820-f3f4388db004",
   "metadata": {},
   "outputs": [
    {
     "name": "stdout",
     "output_type": "stream",
     "text": [
      "(36, 4)\n",
      "(9, 4)\n"
     ]
    }
   ],
   "source": [
    "df = pd.read_csv('sea_avg_multi.csv')\n",
    "df.head()\n",
    "\n",
    "df = df.sample(frac=1, random_state=20).reset_index(drop=True) #shuffle dataframe\n",
    "df.head()\n",
    "\n",
    "#Splitting in train and test\n",
    "split = math.floor(df.shape[0]*0.2) #80-20% split\n",
    "test = df.head(n=split)\n",
    "train = df.drop(index=df.index[:split]).reset_index(drop=True)\n",
    "print(train.shape)\n",
    "print(test.shape)"
   ]
  },
  {
   "cell_type": "code",
   "execution_count": 83,
   "id": "5d0e2dd0-45bc-4172-b81c-586e04b04fa3",
   "metadata": {},
   "outputs": [
    {
     "name": "stdout",
     "output_type": "stream",
     "text": [
      "(36, 3) (9, 3) (36, 1) (9, 1)\n",
      "(3,) (3,)\n",
      "<class 'numpy.ndarray'>\n"
     ]
    }
   ],
   "source": [
    "#Splitting X and Y\n",
    "y_train = train['Extent'].to_numpy()\n",
    "y_train = np.reshape(y_train, ((y_train.shape[0], 1)))\n",
    "\n",
    "y_test = test['Extent'].to_numpy()\n",
    "y_test = np.reshape(y_test, ((y_test.shape[0], 1)))\n",
    "\n",
    "X_train = train.drop(['Extent'],axis=1)\n",
    "X_train = X_train.to_numpy()\n",
    "\n",
    "X_test = test.drop(['Extent'],axis=1)\n",
    "X_test = X_test.to_numpy()\n",
    "print(X_train.shape, X_test.shape, y_train.shape, y_test.shape)\n",
    "\n",
    "#Z normalisation\n",
    "mu = np.mean(X_train,axis=0)\n",
    "sigma = np.std(X_train,axis=0)\n",
    "print(mu.shape, sigma.shape)\n",
    "\n",
    "X_train = (X_train-mu)/sigma\n",
    "print(type(X_train))"
   ]
  },
  {
   "cell_type": "code",
   "execution_count": 84,
   "id": "ad76f925-86fa-4e80-b259-1aab283a3aff",
   "metadata": {},
   "outputs": [],
   "source": [
    "class NeuralNetwork:\n",
    "    def __init__(self,input_size,l,output_size, activationfunction=\"tanh\"):\n",
    "        np.random.seed(0)\n",
    "        model = {}\n",
    "        #for hidden layer\n",
    "        model['W1']  = np.random.randn(input_size,l[0])\n",
    "        model['b1'] = np.random.randn(1,l[0])\n",
    "        \n",
    "        #for output layer\n",
    "        model['W2']  = np.random.randn(l[0],output_size)\n",
    "        model['b2'] = np.random.randn(1,output_size)\n",
    "        \n",
    "        self.model = model\n",
    "        self.activationfunction = activationfunction\n",
    "\n",
    "    def linear(self, a):\n",
    "      return a\n",
    "\n",
    "    def relu(self, a):\n",
    "      return(np.maximum(0, a))\n",
    "\n",
    "    def reluderivative(self, a) :\n",
    "      temp=a.copy()\n",
    "      for i in range(a.shape[0]):\n",
    "        for j in range(a.shape[1]):\n",
    "          if(temp[i][j]>0):\n",
    "            temp[i][j] = 1\n",
    "          else:\n",
    "            temp[i][j] = 0\n",
    "      return temp\n",
    "            \n",
    "    def forward(self,x):\n",
    "        W1,W2 = self.model['W1'],self.model['W2']\n",
    "        b1,b2 = self.model['b1'],self.model['b2']\n",
    "        \n",
    "        #hidden layer\n",
    "        z1 = np.dot(x,W1) + b1\n",
    "        if(self.activationfunction==\"relu\"):\n",
    "          a1 = self.relu(z1)\n",
    "        if(self.activationfunction==\"tanh\"):\n",
    "          a1 = np.tanh(z1)\n",
    "\n",
    "        #output layer\n",
    "        z2 = np.dot(a1,W2) + b2\n",
    "        y_ = self.linear(z2)\n",
    "        \n",
    "        # Store the layer wise output for backprop later\n",
    "        self.activations = (a1,y_)\n",
    "        self.z = (z1, z2)\n",
    "        return y_\n",
    "    \n",
    "    def backward(self,x,y,learning_rate=0.01):\n",
    "        W1,W2 = self.model['W1'],self.model['W2']\n",
    "        b1,b2 = self.model['b1'],self.model['b2']\n",
    "        a1,y_ = self.activations\n",
    "        z1, z2 = self.z\n",
    "\n",
    "        # Output layer\n",
    "        d2 = (y_ - y)\n",
    "        dw2 = np.dot(a1.T,d2)\n",
    "        db2 = np.sum(d2,axis=0)\n",
    "        \n",
    "        # Hidden layer\n",
    "        d1 = np.dot(d2,W2.T)\n",
    "        if(self.activationfunction==\"relu\"):\n",
    "          d1 = d1*(self.reluderivative(z1))\n",
    "        if(self.activationfunction==\"tanh\"):\n",
    "          d1 = d1 * (1-np.square(a1))\n",
    "        dw1 = np.dot(x.T,d1)\n",
    "        db1 = np.sum(d1,axis=0)\n",
    "        \n",
    "        # Gradient Descent \n",
    "        self.model['W1'] -= learning_rate*dw1\n",
    "        self.model['W2'] -= learning_rate*dw2\n",
    "        self.model['b1'] -= learning_rate*db1\n",
    "        self.model['b2'] -= learning_rate*db2\n",
    "    \n",
    "    def predict(self,x):\n",
    "        out = self.forward(x)\n",
    "        return out\n",
    "\n",
    "    def loss(self, y,y_):\n",
    "      l = (1/2)*np.mean((y_-y)**2)\n",
    "      return l\n",
    "\n",
    "    def r2Score(self,y, y_):\n",
    "      num = np.sum((y-y_)**2)\n",
    "      denom = np.sum((y-y.mean())**2)\n",
    "      score = (1-num/denom)\n",
    "      return score*100\n",
    "\n",
    "    def fit(self, X ,Y,epochs, learning_rate):\n",
    "    \n",
    "      train_loss = []\n",
    "      \n",
    "      for i in range(epochs):\n",
    "          Y_ = self.forward(X)\n",
    "          l = self.loss(Y,Y_)\n",
    "          train_loss.append(l)\n",
    "          model.backward(X,Y, learning_rate)\n",
    "          if ((i+1)%2500==0):\n",
    "              r2score = self.r2Score(Y,Y_)\n",
    "              print(\"Epoch %d Loss %.2f R2_score %.2f\"%(i+1,l,r2score))\n",
    "      return train_loss"
   ]
  },
  {
   "cell_type": "code",
   "execution_count": 85,
   "id": "6b397977-8e26-4c4d-bedc-50d339154664",
   "metadata": {},
   "outputs": [
    {
     "name": "stdout",
     "output_type": "stream",
     "text": [
      "Epoch 2500 Loss 0.02 R2_score 90.15\n",
      "Epoch 5000 Loss 0.02 R2_score 90.38\n",
      "Epoch 7500 Loss 0.02 R2_score 90.68\n",
      "Epoch 10000 Loss 0.02 R2_score 90.92\n",
      "Epoch 12500 Loss 0.02 R2_score 91.05\n",
      "Epoch 15000 Loss 0.02 R2_score 90.99\n",
      "Epoch 17500 Loss 0.02 R2_score 91.09\n",
      "Epoch 20000 Loss 0.02 R2_score 91.08\n",
      "Epoch 22500 Loss 0.02 R2_score 91.82\n",
      "Epoch 25000 Loss 0.02 R2_score 91.85\n"
     ]
    }
   ],
   "source": [
    "# Model Details\n",
    "input_size = 3\n",
    "layers = [2] #Hidden Layers\n",
    "output_size = 1\n",
    "model = NeuralNetwork(input_size,layers,output_size, activationfunction=\"relu\")\n",
    "error_list = model.fit(X_train, y_train, epochs=25000, learning_rate=0.003)\n",
    "\n",
    "#0.003 - relu\n",
    "#0.02 - tanh"
   ]
  },
  {
   "cell_type": "code",
   "execution_count": 89,
   "id": "bf543aef-2505-45df-8d78-3e4c75cd874b",
   "metadata": {},
   "outputs": [
    {
     "data": {
      "image/png": "[encoded data removed]",
      "text/plain": [
       "<Figure size 432x288 with 1 Axes>"
      ]
     },
     "metadata": {
      "needs_background": "light"
     },
     "output_type": "display_data"
    }
   ],
   "source": [
    "plt.plot(error_list)\n",
    "plt.xlabel('Epochs')\n",
    "plt.ylabel('MSE')\n",
    "plt.title('Mean Squared error VS Epochs')\n",
    "plt.show()"
   ]
  },
  {
   "cell_type": "code",
   "execution_count": 87,
   "id": "2f41f777-e4a1-476b-957c-c7f233442ecf",
   "metadata": {},
   "outputs": [
    {
     "name": "stdout",
     "output_type": "stream",
     "text": [
      "MSE on test set is:  0.019691822331523764\n",
      "R^2 score on test is:  94.38442555372927\n"
     ]
    }
   ],
   "source": [
    "X_test = (X_test-mu)/sigma\n",
    "y_hat = model.predict(X_test)\n",
    "print(\"MSE on test set is: \",model.loss(y_test,y_hat))\n",
    "print(\"R^2 score on test is: \",model.r2Score(y_test,y_hat))"
   ]
  },
  {
   "cell_type": "code",
   "execution_count": null,
   "id": "d97f5fb1-4906-4358-8b48-9e1c37cae515",
   "metadata": {},
   "outputs": [],
   "source": []
  }
 ],
 "metadata": {
  "kernelspec": {
   "display_name": "Python 3 (ipykernel)",
   "language": "python",
   "name": "python3"
  },
  "language_info": {
   "codemirror_mode": {
    "name": "ipython",
    "version": 3
   },
   "file_extension": ".py",
   "mimetype": "text/x-python",
   "name": "python",
   "nbconvert_exporter": "python",
   "pygments_lexer": "ipython3",
   "version": "3.9.12"
  }
 },
 "nbformat": 4,
 "nbformat_minor": 5
}
