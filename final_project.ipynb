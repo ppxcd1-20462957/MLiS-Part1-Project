{
 "cells": [
  {
   "cell_type": "code",
   "execution_count": 616,
   "id": "64c8eef7-983b-4675-9727-52919ed5a97a",
   "metadata": {},
   "outputs": [],
   "source": [
    "#importing libraries\n",
    "import pandas as pd\n",
    "import numpy as np\n",
    "import matplotlib.pyplot as plt\n",
    "import math\n",
    "import seaborn as sns"
   ]
  },
  {
   "cell_type": "markdown",
   "id": "568526a6-b3b9-47e7-8f5e-b5ab9fe3ece8",
   "metadata": {},
   "source": [
    "# **Data collection and manipulation**"
   ]
  },
  {
   "cell_type": "code",
   "execution_count": 617,
   "id": "41a3abd2-5ad8-410b-a356-6fb43dd5783e",
   "metadata": {},
   "outputs": [
    {
     "name": "stderr",
     "output_type": "stream",
     "text": [
      "C:\\Users\\goyal\\AppData\\Local\\Temp\\ipykernel_93712\\427429029.py:20: FutureWarning: The frame.append method is deprecated and will be removed from pandas in a future version. Use pandas.concat instead.\n",
      "  celsius_data = celsius_data.append(pd.DataFrame({'Year': [2022],\n"
     ]
    }
   ],
   "source": [
    "class Preprocess():\n",
    "    def __init__(self):\n",
    "        sea_ice_data = pd.read_csv('N_seaice_extent_daily_v3.0.csv')\n",
    "        sea_ice_data = sea_ice_data.drop(index = 0, axis = 0)\n",
    "        sea_ice_data = sea_ice_data.rename(columns = lambda x: x.strip())\n",
    "        sea_ice_data = sea_ice_data.drop(columns = ['Month', 'Day', 'Missing', 'Source Data'], axis = 1)\n",
    "        sea_ice_data = self.sea_ice_averages(sea_ice_data)\n",
    "\n",
    "        co2_data = pd.read_csv('co2_mm_mlo.csv')\n",
    "        co2_data = co2_data.rename(columns = lambda x: x.strip())\n",
    "        co2_data = co2_data.drop(columns = ['month', 'decimal date', 'de-seasonalized', '#days', 'st.dev of days', 'unc. of mon mean'], axis = 1)\n",
    "        co2_data = self.co2_averages(co2_data)\n",
    "        co2_data = co2_data.loc[co2_data['year'] > 1977]\n",
    "        co2_data = co2_data.reset_index()\n",
    "\n",
    "        celsius_data = pd.read_csv('graph.csv')\n",
    "        celsius_data = celsius_data.rename(columns = lambda x: x.strip())\n",
    "        celsius_data = celsius_data.drop(columns = ['Lowess(5)'], axis = 1)\n",
    "        celsius_data = celsius_data.loc[celsius_data['Year'] > 1977]\n",
    "        celsius_data = celsius_data.append(pd.DataFrame({'Year': [2022],\n",
    "                                          'No_Smoothing': [0.84] #interpolated as 2021 value, assuming the data follows a trend\n",
    "                                         }))\n",
    "        celsius_data = celsius_data.reset_index()                             \n",
    "\n",
    "        all_data = sea_ice_data\n",
    "        all_data['Global CO2'] = co2_data['monthly average']\n",
    "        all_data['Temp Diff From Average'] = celsius_data['No_Smoothing']\n",
    "        \n",
    "        sea_ice_data.to_csv('sea_avg_multi.csv', index=False) #The other three csv files are used and manipualted so we can obtain a final csv having average value of features over the years\n",
    "    \n",
    "    def sea_ice_averages(self, sea_ice_data):\n",
    "        sea_ice_data['Year'] = pd.to_numeric(sea_ice_data['Year'])\n",
    "        sea_ice_data['Extent'] = pd.to_numeric(sea_ice_data['Extent'])\n",
    "        \n",
    "        unique_vals = pd.unique(sea_ice_data['Year'])\n",
    "\n",
    "        yearly_averages = []\n",
    "        for i in unique_vals:\n",
    "            x = 0\n",
    "            y = 0\n",
    "            for index, row in sea_ice_data.iterrows():\n",
    "                if row['Year'] == i:\n",
    "                    x += row['Extent']\n",
    "                    y += 1\n",
    "                    sea_ice_data = sea_ice_data.drop(index, axis = 0)\n",
    "                else:\n",
    "                    break\n",
    "            yearly_averages.append(x / y)\n",
    "\n",
    "        sea_ice_data['Year'] = unique_vals\n",
    "        sea_ice_data['Extent'] = yearly_averages\n",
    "        sea_ice_data.to_csv('sea_avg.csv', index=False) #SEA ICE DATA TO A CSV\n",
    "        return sea_ice_data\n",
    "\n",
    "    def co2_averages(self, co2_data):\n",
    "        co2_data['year'] = pd.to_numeric(co2_data['year'])\n",
    "        co2_data['monthly average'] = pd.to_numeric(co2_data['monthly average'])\n",
    "        \n",
    "        unique_vals = pd.unique(co2_data['year'])\n",
    "\n",
    "        yearly_averages = []\n",
    "        for i in unique_vals:\n",
    "            x = 0\n",
    "            y = 0\n",
    "            for index, row in co2_data.iterrows():\n",
    "                if row['year'] == i:\n",
    "                    x += row['monthly average']\n",
    "                    y += 1\n",
    "                    co2_data = co2_data.drop(index, axis = 0)\n",
    "                else:\n",
    "                    break\n",
    "            yearly_averages.append(x / y)\n",
    "\n",
    "        co2_data['year'] = unique_vals\n",
    "        co2_data['monthly average'] = yearly_averages\n",
    "        return co2_data\n",
    "\n",
    "def main():\n",
    "    df = Preprocess()\n",
    "if __name__ == '__main__':\n",
    "    main()"
   ]
  },
  {
   "cell_type": "markdown",
   "id": "87986bcb-515d-4afe-b3b1-b5a16a47d69f",
   "metadata": {},
   "source": [
    "## Reading CSV file and splitting it into Train and Test"
   ]
  },
  {
   "cell_type": "code",
   "execution_count": 870,
   "id": "90224b76-afb6-411c-8e38-8a235775f8d2",
   "metadata": {},
   "outputs": [
    {
     "name": "stdout",
     "output_type": "stream",
     "text": [
      "   Year     Extent  Global CO2  Temp Diff From Average\n",
      "0  1978  12.487000  335.415000                    0.07\n",
      "1  1979  12.319560  336.835000                    0.16\n",
      "2  1980  12.334148  338.762500                    0.26\n",
      "3  1981  12.135486  340.120000                    0.32\n",
      "4  1982  12.439445  341.478333                    0.14\n",
      "(36, 4)\n",
      "(9, 4)\n"
     ]
    }
   ],
   "source": [
    "df = pd.read_csv('sea_avg_multi.csv')\n",
    "print(df.head())\n",
    "\n",
    "df = df.sample(frac=1, random_state=20).reset_index(drop=True) #shuffle dataframe\n",
    "\n",
    "#Splitting in train and test\n",
    "split = math.floor(df.shape[0]*0.2) #80-20% split\n",
    "test = df.head(n=split)\n",
    "train = df.drop(index=df.index[:split]).reset_index(drop=True)\n",
    "\n",
    "print(train.shape)\n",
    "print(test.shape)"
   ]
  },
  {
   "cell_type": "markdown",
   "id": "dec8c3fc-52e9-4e3a-80bd-1e9c3000ebe7",
   "metadata": {},
   "source": [
    "## Splitting our data into X(features) and y(outcome)"
   ]
  },
  {
   "cell_type": "code",
   "execution_count": 871,
   "id": "45726dd2-d0ab-4e46-9a91-fed79db4b08a",
   "metadata": {},
   "outputs": [
    {
     "name": "stdout",
     "output_type": "stream",
     "text": [
      "(36, 3) (9, 3) (36,) (9,)\n"
     ]
    }
   ],
   "source": [
    "#Splitting X and Y\n",
    "y_train = train['Extent'].to_numpy()\n",
    "y_test = test['Extent'].to_numpy()\n",
    "\n",
    "X_train = train.drop(['Extent'],axis=1)\n",
    "X_test = test.drop(['Extent'],axis=1)\n",
    "\n",
    "print(X_train.shape, X_test.shape, y_train.shape, y_test.shape)"
   ]
  },
  {
   "cell_type": "markdown",
   "id": "26a7ea48-946d-45d0-b07e-f9f5fe65de96",
   "metadata": {},
   "source": [
    "## Boxplot before normalisation to identify outliers and verify the need of normalisation"
   ]
  },
  {
   "cell_type": "code",
   "execution_count": 872,
   "id": "d84d6589-3199-443f-aec4-75c8473acc46",
   "metadata": {},
   "outputs": [
    {
     "data": {
      "image/png": "[encoded data removed]",
      "text/plain": [
       "<Figure size 1440x576 with 1 Axes>"
      ]
     },
     "metadata": {
      "needs_background": "light"
     },
     "output_type": "display_data"
    }
   ],
   "source": [
    "#Boxplot before normalisation\n",
    "fig,ax=plt.subplots(1,figsize=(20,8))\n",
    "sns.boxplot(data=X_train.iloc[:, :],ax=ax)\n",
    "plt.title('Boxplot of features before normalisation')\n",
    "plt.show()"
   ]
  },
  {
   "cell_type": "markdown",
   "id": "a88c6fee-d4bd-4a81-838f-87453e1799ac",
   "metadata": {},
   "source": [
    "#### We can clearly tell this data needs to be normalised as the features are in very different range"
   ]
  },
  {
   "cell_type": "markdown",
   "id": "72a48f2b-9350-4ba6-adbd-99030ec353fe",
   "metadata": {},
   "source": [
    "## Z normalisation"
   ]
  },
  {
   "cell_type": "code",
   "execution_count": 873,
   "id": "14c46aa9-f76e-4d2a-bd83-5f6fb760e334",
   "metadata": {},
   "outputs": [
    {
     "name": "stdout",
     "output_type": "stream",
     "text": [
      "(3,) (3,)\n"
     ]
    },
    {
     "data": {
      "text/html": [
       "<div>\n",
       "<style scoped>\n",
       "    .dataframe tbody tr th:only-of-type {\n",
       "        vertical-align: middle;\n",
       "    }\n",
       "\n",
       "    .dataframe tbody tr th {\n",
       "        vertical-align: top;\n",
       "    }\n",
       "\n",
       "    .dataframe thead th {\n",
       "        text-align: right;\n",
       "    }\n",
       "</style>\n",
       "<table border=\"1\" class=\"dataframe\">\n",
       "  <thead>\n",
       "    <tr style=\"text-align: right;\">\n",
       "      <th></th>\n",
       "      <th>Year</th>\n",
       "      <th>Global CO2</th>\n",
       "      <th>Temp Diff From Average</th>\n",
       "    </tr>\n",
       "  </thead>\n",
       "  <tbody>\n",
       "    <tr>\n",
       "      <th>0</th>\n",
       "      <td>1992</td>\n",
       "      <td>356.545833</td>\n",
       "      <td>0.22</td>\n",
       "    </tr>\n",
       "    <tr>\n",
       "      <th>1</th>\n",
       "      <td>1995</td>\n",
       "      <td>360.968333</td>\n",
       "      <td>0.44</td>\n",
       "    </tr>\n",
       "    <tr>\n",
       "      <th>2</th>\n",
       "      <td>2002</td>\n",
       "      <td>373.452500</td>\n",
       "      <td>0.62</td>\n",
       "    </tr>\n",
       "    <tr>\n",
       "      <th>3</th>\n",
       "      <td>2020</td>\n",
       "      <td>414.238333</td>\n",
       "      <td>1.02</td>\n",
       "    </tr>\n",
       "    <tr>\n",
       "      <th>4</th>\n",
       "      <td>1981</td>\n",
       "      <td>340.120000</td>\n",
       "      <td>0.32</td>\n",
       "    </tr>\n",
       "  </tbody>\n",
       "</table>\n",
       "</div>"
      ],
      "text/plain": [
       "   Year  Global CO2  Temp Diff From Average\n",
       "0  1992  356.545833                    0.22\n",
       "1  1995  360.968333                    0.44\n",
       "2  2002  373.452500                    0.62\n",
       "3  2020  414.238333                    1.02\n",
       "4  1981  340.120000                    0.32"
      ]
     },
     "execution_count": 873,
     "metadata": {},
     "output_type": "execute_result"
    }
   ],
   "source": [
    "#Z normalisation\n",
    "mu = np.mean(X_train,axis=0)\n",
    "sigma = np.std(X_train,axis=0)\n",
    "print(mu.shape, sigma.shape)\n",
    "\n",
    "X_train_norm = (X_train-mu)/sigma\n",
    "X_train.head()"
   ]
  },
  {
   "cell_type": "markdown",
   "id": "c9b69ee5-a699-4238-8ac9-170cb68640e9",
   "metadata": {},
   "source": [
    "### Boxplot of features after normalisation proving they are in the same range now"
   ]
  },
  {
   "cell_type": "code",
   "execution_count": 874,
   "id": "52bdb568-9e31-4fbc-8045-dad9cde66f36",
   "metadata": {},
   "outputs": [
    {
     "data": {
      "image/png": "[encoded data removed]",
      "text/plain": [
       "<Figure size 1440x576 with 1 Axes>"
      ]
     },
     "metadata": {
      "needs_background": "light"
     },
     "output_type": "display_data"
    }
   ],
   "source": [
    "#Boxplot after normalisation\n",
    "fig,ax=plt.subplots(1,figsize=(20,8))\n",
    "sns.boxplot(data=X_train_norm.iloc[:, :],ax=ax)\n",
    "plt.title('Boxplot of features after normalisation')\n",
    "plt.show()"
   ]
  },
  {
   "cell_type": "markdown",
   "id": "edf270b3-00f8-4404-ae6e-036f93f93a6b",
   "metadata": {},
   "source": [
    "## Adding a column of 1s to our feature matrix so we can apply dot product for weights and features"
   ]
  },
  {
   "cell_type": "code",
   "execution_count": 875,
   "id": "1cbcd6cf-c9c0-4cb8-a02c-3aefd4fc1f6b",
   "metadata": {},
   "outputs": [
    {
     "name": "stdout",
     "output_type": "stream",
     "text": [
      "(36, 4)\n"
     ]
    }
   ],
   "source": [
    "#Adding column of 1 in X to multiply with theta0\n",
    "X_zero = np.ones((X_train_norm.shape[0],1))\n",
    "X_train_norm = np.hstack((X_zero,X_train_norm))\n",
    "print(X_train_norm.shape)"
   ]
  },
  {
   "cell_type": "markdown",
   "id": "aa400601-66c3-467b-acf7-92cf72e6bc15",
   "metadata": {},
   "source": [
    "## Plotting individual features against ice extent(output) to identify any linear relation amongst them"
   ]
  },
  {
   "cell_type": "code",
   "execution_count": 876,
   "id": "2eac3505-4c5b-40ce-953e-bc88b1f59c84",
   "metadata": {},
   "outputs": [
    {
     "data": {
      "image/png": "[encoded data removed]",
      "text/plain": [
       "<Figure size 432x288 with 1 Axes>"
      ]
     },
     "metadata": {
      "needs_background": "light"
     },
     "output_type": "display_data"
    },
    {
     "data": {
      "image/png": "[encoded data removed]",
      "text/plain": [
       "<Figure size 432x288 with 1 Axes>"
      ]
     },
     "metadata": {
      "needs_background": "light"
     },
     "output_type": "display_data"
    },
    {
     "data": {
      "image/png": "[encoded data removed]",
      "text/plain": [
       "<Figure size 432x288 with 1 Axes>"
      ]
     },
     "metadata": {
      "needs_background": "light"
     },
     "output_type": "display_data"
    }
   ],
   "source": [
    "#Plots of individual features against ice extent to see if there is a linear regression amongst the features and output variable\n",
    "plt.scatter(X_train['Year'],y_train)\n",
    "plt.xlabel('Year')\n",
    "plt.ylabel('Arctic Ice Extent')\n",
    "plt.show()\n",
    "plt.scatter(X_train['Global CO2'],y_train)\n",
    "plt.xlabel('Global CO2')\n",
    "plt.ylabel('Arctic Ice Extent')\n",
    "plt.show()\n",
    "plt.scatter(X_train['Temp Diff From Average'],y_train)\n",
    "plt.xlabel('Temperature difference from average')\n",
    "plt.ylabel('Arctic Ice Extent')\n",
    "plt.show()"
   ]
  },
  {
   "cell_type": "markdown",
   "id": "aa856a58-530b-497d-aa13-db9ee985c39d",
   "metadata": {
    "tags": []
   },
   "source": [
    "#### Features show a linear relation against the output variable ice extent so we will proceed with linear regression expecting good results"
   ]
  },
  {
   "cell_type": "markdown",
   "id": "17ba8789-007e-4e53-b11d-2f444f550522",
   "metadata": {},
   "source": [
    "## Correlation between features"
   ]
  },
  {
   "cell_type": "code",
   "execution_count": 877,
   "id": "7b1072c8-b71a-4ddb-aa57-f6b0638f8405",
   "metadata": {},
   "outputs": [
    {
     "data": {
      "image/png": "[encoded data removed]",
      "text/plain": [
       "<Figure size 432x288 with 2 Axes>"
      ]
     },
     "metadata": {
      "needs_background": "light"
     },
     "output_type": "display_data"
    }
   ],
   "source": [
    "#correlation between features\n",
    "mask = np.triu(np.ones_like(X_train.corr()))\n",
    "dataplot = sns.heatmap(X_train.corr(), cmap=\"YlGnBu\", annot=True, mask=mask)\n",
    "plt.show()"
   ]
  },
  {
   "cell_type": "markdown",
   "id": "f9965a35-82fa-4322-8866-7bedb1979388",
   "metadata": {},
   "source": [
    "# Building Linear Regression for multiple features"
   ]
  },
  {
   "cell_type": "code",
   "execution_count": 878,
   "id": "bfdd1cb4-1215-48d7-bb04-e908af70e9cc",
   "metadata": {},
   "outputs": [],
   "source": [
    "class multiLinearRegression:\n",
    "    def __init__(self):\n",
    "        print(\"Regressor created\")\n",
    "        \n",
    "    def predict(self, X,theta):\n",
    "        return np.dot(X,theta)\n",
    "\n",
    "    def error(self, X,y,theta):\n",
    "        m = X.shape[0]\n",
    "        e = 0.0\n",
    "        y_hat = self.predict(X,theta)\n",
    "        e = (np.sum((y-y_hat)**2))/m\n",
    "        \n",
    "        return e\n",
    "\n",
    "    def r2_score(self, X,y):\n",
    "        y_hat = self.predict(X,theta)\n",
    "        num = np.sum((y-y_hat)**2)\n",
    "        denom = np.sum((y-y.mean())**2)\n",
    "        score = (1-num/denom)\n",
    "        \n",
    "        return score*100\n",
    "\n",
    "    def gradient(self, X,y,theta):\n",
    "        m = X.shape[0]\n",
    "        y_hat = self.predict(X,theta)\n",
    "        grad = (np.dot(X.T,(y_hat-y)))/m\n",
    "        \n",
    "        return grad\n",
    "\n",
    "    def fit(self, X,y,learning_rate=0.05,max_epochs=100):\n",
    "        n = X.shape[1]\n",
    "        theta = np.zeros((n,))\n",
    "        error_list = []\n",
    "\n",
    "        for i in range(max_epochs):\n",
    "            e = self.error(X,y,theta)\n",
    "            error_list.append(e)\n",
    "\n",
    "            grad = self.gradient(X,y,theta)\n",
    "            theta = theta - learning_rate*grad\n",
    "\n",
    "        return theta,error_list\n",
    "\n",
    "    def test_preprocess(self, X):\n",
    "        X = (X-mu)/sigma\n",
    "        X_zero = np.ones((X.shape[0],1))\n",
    "        X = np.hstack((X_zero,X))\n",
    "    \n",
    "        return X"
   ]
  },
  {
   "cell_type": "markdown",
   "id": "a182ac51-0237-448a-b6be-e4e15a93a6a0",
   "metadata": {},
   "source": [
    "## Fitting in the model"
   ]
  },
  {
   "cell_type": "code",
   "execution_count": 879,
   "id": "5f9930e3-60fd-4179-aeaa-fdbe781ebf1a",
   "metadata": {},
   "outputs": [
    {
     "name": "stdout",
     "output_type": "stream",
     "text": [
      "Regressor created\n"
     ]
    }
   ],
   "source": [
    "learning_rate = 0.1\n",
    "epochs = 500\n",
    "model = multiLinearRegression()\n",
    "theta, error_list = model.fit(X_train_norm,y_train,learning_rate,epochs)"
   ]
  },
  {
   "cell_type": "markdown",
   "id": "1e38df55-4e38-484e-869c-a90771fdda13",
   "metadata": {},
   "source": [
    "### Printing the learnable weights we got after training of our model"
   ]
  },
  {
   "cell_type": "code",
   "execution_count": 880,
   "id": "00a85023-39cb-4632-843a-4482e9fac4dd",
   "metadata": {},
   "outputs": [
    {
     "name": "stdout",
     "output_type": "stream",
     "text": [
      "Value of weights are:  [11.29327245 -0.20826991 -0.17998155 -0.24349033]\n"
     ]
    }
   ],
   "source": [
    "print(\"Value of weights are: \",theta)"
   ]
  },
  {
   "cell_type": "markdown",
   "id": "b200c381-6894-4699-839c-15d65f9629f2",
   "metadata": {},
   "source": [
    "### Plotting error(MSE) curve"
   ]
  },
  {
   "cell_type": "code",
   "execution_count": 881,
   "id": "1be8ea27-3563-4acd-96c4-bdd6fa865e68",
   "metadata": {},
   "outputs": [
    {
     "data": {
      "image/png": "[encoded data removed]",
      "text/plain": [
       "<Figure size 432x288 with 1 Axes>"
      ]
     },
     "metadata": {
      "needs_background": "light"
     },
     "output_type": "display_data"
    }
   ],
   "source": [
    "#Plotting error\n",
    "plt.plot(error_list)\n",
    "plt.xlabel('Epochs')\n",
    "plt.ylabel('MSE')\n",
    "plt.title('Mean Squared error VS Epochs')\n",
    "plt.show()"
   ]
  },
  {
   "cell_type": "markdown",
   "id": "9fc2f896-2d88-49c3-8de4-cf5150014c68",
   "metadata": {},
   "source": [
    "## Running evaluation on test(unseen) set"
   ]
  },
  {
   "cell_type": "code",
   "execution_count": 882,
   "id": "5c2c8ace-14d6-471d-84c9-5f26a8fd8161",
   "metadata": {},
   "outputs": [
    {
     "name": "stdout",
     "output_type": "stream",
     "text": [
      "MSE on test set is:  0.028605078869859486\n",
      "R^2 score on test is:  95.9213030863581\n"
     ]
    }
   ],
   "source": [
    "#Evaluation on test set\n",
    "X_test = model.test_preprocess(X_test)\n",
    "print(\"MSE on test set is: \",model.error(X_test,y_test,theta))\n",
    "print(\"R^2 score on test is: \",model.r2_score(X_test,y_test))"
   ]
  },
  {
   "cell_type": "markdown",
   "id": "c2bac6b5-a4b4-46f3-8a84-27abba9de93a",
   "metadata": {},
   "source": [
    "## Making predictions using our model"
   ]
  },
  {
   "cell_type": "code",
   "execution_count": 883,
   "id": "a0cb0c45-7546-4e77-aa2d-45b21b4de53d",
   "metadata": {},
   "outputs": [
    {
     "name": "stdout",
     "output_type": "stream",
     "text": [
      "Predictions are:  [12.47124403 12.35263759]\n"
     ]
    }
   ],
   "source": [
    "data = [[1978, 335.415000,0.07],[1979,336.835000,0.16]]\n",
    "test_df = pd.DataFrame(data, columns=['Year', 'Global CO2', 'Temp Diff From Average'])\n",
    "test_df = model.test_preprocess(test_df)\n",
    "pred = model.predict(test_df,theta)\n",
    "print(\"Predictions are: \",pred)"
   ]
  },
  {
   "cell_type": "markdown",
   "id": "7ec7ad6c-a493-4776-8698-b705d032acb9",
   "metadata": {},
   "source": [
    "# **Predicting the year when ice extent is going to hit zero**"
   ]
  },
  {
   "cell_type": "markdown",
   "id": "d1d1a6b7-67c5-4b1e-b474-2e616338758e",
   "metadata": {},
   "source": [
    "## Splitting data into train and test"
   ]
  },
  {
   "cell_type": "code",
   "execution_count": 884,
   "id": "106b0d96-5ebb-43fc-bfa9-d103a78eb1b7",
   "metadata": {},
   "outputs": [
    {
     "name": "stdout",
     "output_type": "stream",
     "text": [
      "   Year     Extent\n",
      "0  1986  12.208224\n",
      "1  1982  12.439445\n",
      "2  1979  12.319560\n",
      "3  2015  10.565816\n",
      "4  2011  10.483496\n",
      "(36, 2)\n",
      "(9, 2)\n"
     ]
    }
   ],
   "source": [
    "data = df.drop(['Global CO2', 'Temp Diff From Average'],axis=1)\n",
    "print(data.head())\n",
    "\n",
    "data = data.sample(frac=1, random_state=10).reset_index(drop=True) #shuffle dataframe\n",
    "\n",
    "#Splitting in train and test\n",
    "split = math.floor(data.shape[0]*0.2) #80-20% split\n",
    "test = data.head(n=split)\n",
    "train = data.drop(index=df.index[:split]).reset_index(drop=True)\n",
    "print(train.shape)\n",
    "print(test.shape)"
   ]
  },
  {
   "cell_type": "markdown",
   "id": "09e66711-4ac2-4881-bbc5-6c24a56b4c2e",
   "metadata": {},
   "source": [
    "## Splitting data into X(features) and y(outcome)"
   ]
  },
  {
   "cell_type": "code",
   "execution_count": 885,
   "id": "44e0ad56-ec34-42bb-9576-570b13799b30",
   "metadata": {},
   "outputs": [
    {
     "name": "stdout",
     "output_type": "stream",
     "text": [
      "(36, 1) (9, 1) (36,) (9,)\n"
     ]
    }
   ],
   "source": [
    "#Splitting X and Y\n",
    "y_train = train['Extent'].to_numpy()\n",
    "y_test = test['Extent'].to_numpy()\n",
    "\n",
    "X_train = train.drop(['Extent'],axis=1)\n",
    "X_ = X_train.copy()\n",
    "X_test = test.drop(['Extent'],axis=1)\n",
    "print(X_train.shape, X_test.shape, y_train.shape, y_test.shape)"
   ]
  },
  {
   "cell_type": "markdown",
   "id": "212ac7ef-7394-446b-bcc8-25d427a545d8",
   "metadata": {},
   "source": [
    "## Z normalisation"
   ]
  },
  {
   "cell_type": "code",
   "execution_count": 886,
   "id": "0956bfa2-243e-43c4-9583-73cb04e2c4fe",
   "metadata": {},
   "outputs": [
    {
     "name": "stdout",
     "output_type": "stream",
     "text": [
      "(1,) (1,)\n"
     ]
    },
    {
     "data": {
      "text/html": [
       "<div>\n",
       "<style scoped>\n",
       "    .dataframe tbody tr th:only-of-type {\n",
       "        vertical-align: middle;\n",
       "    }\n",
       "\n",
       "    .dataframe tbody tr th {\n",
       "        vertical-align: top;\n",
       "    }\n",
       "\n",
       "    .dataframe thead th {\n",
       "        text-align: right;\n",
       "    }\n",
       "</style>\n",
       "<table border=\"1\" class=\"dataframe\">\n",
       "  <thead>\n",
       "    <tr style=\"text-align: right;\">\n",
       "      <th></th>\n",
       "      <th>Year</th>\n",
       "    </tr>\n",
       "  </thead>\n",
       "  <tbody>\n",
       "    <tr>\n",
       "      <th>0</th>\n",
       "      <td>1.583213</td>\n",
       "    </tr>\n",
       "    <tr>\n",
       "      <th>1</th>\n",
       "      <td>-0.636368</td>\n",
       "    </tr>\n",
       "    <tr>\n",
       "      <th>2</th>\n",
       "      <td>-1.508346</td>\n",
       "    </tr>\n",
       "    <tr>\n",
       "      <th>3</th>\n",
       "      <td>-0.002202</td>\n",
       "    </tr>\n",
       "    <tr>\n",
       "      <th>4</th>\n",
       "      <td>1.821025</td>\n",
       "    </tr>\n",
       "  </tbody>\n",
       "</table>\n",
       "</div>"
      ],
      "text/plain": [
       "       Year\n",
       "0  1.583213\n",
       "1 -0.636368\n",
       "2 -1.508346\n",
       "3 -0.002202\n",
       "4  1.821025"
      ]
     },
     "execution_count": 886,
     "metadata": {},
     "output_type": "execute_result"
    }
   ],
   "source": [
    "#Z normalisation\n",
    "mu = np.mean(X_train,axis=0)\n",
    "sigma = np.std(X_train,axis=0)\n",
    "print(mu.shape, sigma.shape)\n",
    "\n",
    "X_train = (X_train-mu)/sigma\n",
    "X_train.head()"
   ]
  },
  {
   "cell_type": "markdown",
   "id": "7b21230c-a2a0-4ebc-949b-ae80bc2959f8",
   "metadata": {},
   "source": [
    "## Adding a column of 1s to our feature matrix so we can apply dot product for weights and features"
   ]
  },
  {
   "cell_type": "code",
   "execution_count": 887,
   "id": "96f1d515-95a2-4602-a198-d381afb04d85",
   "metadata": {},
   "outputs": [
    {
     "name": "stdout",
     "output_type": "stream",
     "text": [
      "(36, 2)\n"
     ]
    }
   ],
   "source": [
    "#Adding column of 1 in X to multiply with theta0\n",
    "X_zero = np.ones((X_train.shape[0],1))\n",
    "X_train = np.hstack((X_zero,X_train))\n",
    "print(X_train.shape)"
   ]
  },
  {
   "cell_type": "markdown",
   "id": "54a1a8c7-0b2e-403b-962e-a76f1f96fe0f",
   "metadata": {},
   "source": [
    "# Building Univariate Linear Regression as we have year as only input"
   ]
  },
  {
   "cell_type": "code",
   "execution_count": 888,
   "id": "20b59fc6-5b76-4ccb-abd8-3b851599e763",
   "metadata": {},
   "outputs": [],
   "source": [
    "class linearRegression:\n",
    "    def __init__(self):\n",
    "        print(\"Regressor created\")\n",
    "        \n",
    "    def predict(self, X,theta):\n",
    "        return np.dot(X,theta)\n",
    "\n",
    "    def error(self, X,y,theta):\n",
    "        m = X.shape[0]\n",
    "        e = 0.0\n",
    "        y_hat = self.predict(X,theta)\n",
    "        e = (np.sum((y-y_hat)**2))/m\n",
    "        \n",
    "        return e\n",
    "\n",
    "    def r2_score(self, X,y):\n",
    "        y_hat = self.predict(X,theta)\n",
    "        num = np.sum((y-y_hat)**2)\n",
    "        denom = np.sum((y-y.mean())**2)\n",
    "        score = (1-num/denom)\n",
    "        \n",
    "        return score*100\n",
    "\n",
    "    def gradient(self, X,y,theta):\n",
    "        m = X.shape[0]\n",
    "        y_hat = self.predict(X,theta)\n",
    "        grad = (np.dot(X.T,(y_hat-y)))/m\n",
    "        \n",
    "        return grad\n",
    "\n",
    "    def fit(self, X,y,learning_rate=0.05,max_epochs=100):\n",
    "        n = X.shape[1]\n",
    "        theta = np.zeros((n,))\n",
    "        error_list = []\n",
    "\n",
    "        for i in range(max_epochs):\n",
    "            e = self.error(X,y,theta)\n",
    "            error_list.append(e)\n",
    "\n",
    "            grad = self.gradient(X,y,theta)\n",
    "            theta = theta - learning_rate*grad\n",
    "\n",
    "        return theta,error_list\n",
    "\n",
    "    def test_preprocess(self, X):\n",
    "        X = (X-mu)/sigma\n",
    "        X_zero = np.ones((X.shape[0],1))\n",
    "        X = np.hstack((X_zero,X))\n",
    "        \n",
    "        return X"
   ]
  },
  {
   "cell_type": "markdown",
   "id": "fb06bfb1-99fa-4d68-9df4-156e6d928168",
   "metadata": {},
   "source": [
    "## Fitting in the model"
   ]
  },
  {
   "cell_type": "code",
   "execution_count": 889,
   "id": "8f8007d2-6105-4aa3-902c-0ed8d174b1be",
   "metadata": {},
   "outputs": [
    {
     "name": "stdout",
     "output_type": "stream",
     "text": [
      "Regressor created\n"
     ]
    }
   ],
   "source": [
    "learning_rate = 0.1\n",
    "epochs = 200\n",
    "model = linearRegression()\n",
    "theta, error_list = model.fit(X_train,y_train,learning_rate,epochs)"
   ]
  },
  {
   "cell_type": "markdown",
   "id": "b05e0b45-67c4-425b-b2ba-f55530687bc0",
   "metadata": {},
   "source": [
    "### Printing the learnable weights we got after training of our model"
   ]
  },
  {
   "cell_type": "code",
   "execution_count": 890,
   "id": "567dc208-d396-4cc2-8777-947fb9fd1121",
   "metadata": {},
   "outputs": [
    {
     "name": "stdout",
     "output_type": "stream",
     "text": [
      "Learned weights are:  [11.47510523 -0.64902219]\n"
     ]
    }
   ],
   "source": [
    "print(\"Learned weights are: \",theta)"
   ]
  },
  {
   "cell_type": "markdown",
   "id": "09300f2f-6649-4a86-9c72-0799a908d964",
   "metadata": {},
   "source": [
    "### Plotting error(MSE) curve"
   ]
  },
  {
   "cell_type": "code",
   "execution_count": 891,
   "id": "d37063a4-70d6-488e-8ee7-da9946a5112f",
   "metadata": {},
   "outputs": [
    {
     "data": {
      "image/png": "[encoded data removed]",
      "text/plain": [
       "<Figure size 432x288 with 1 Axes>"
      ]
     },
     "metadata": {
      "needs_background": "light"
     },
     "output_type": "display_data"
    }
   ],
   "source": [
    "#Plotting error\n",
    "plt.plot(error_list)\n",
    "plt.xlabel('Epochs')\n",
    "plt.ylabel('MSE')\n",
    "plt.title('Mean Squared error VS Epochs')\n",
    "plt.show()"
   ]
  },
  {
   "cell_type": "markdown",
   "id": "bd420d8d-67a3-43cc-a85d-28169e1739f3",
   "metadata": {},
   "source": [
    "## Running evaluation on test(unseen) set"
   ]
  },
  {
   "cell_type": "code",
   "execution_count": 892,
   "id": "d0569b08-b9bd-4988-bea8-8871d17b98b0",
   "metadata": {},
   "outputs": [
    {
     "name": "stdout",
     "output_type": "stream",
     "text": [
      "MSE on test set is:  0.061522979097221105\n",
      "R^2 score on test is:  81.23969011507145\n"
     ]
    }
   ],
   "source": [
    "#Evaluation on test set\n",
    "X_test = model.test_preprocess(X_test)\n",
    "print(\"MSE on test set is: \",model.error(X_test,y_test,theta))\n",
    "print(\"R^2 score on test is: \",model.r2_score(X_test,y_test))"
   ]
  },
  {
   "cell_type": "markdown",
   "id": "aa27d595-6772-4328-a0d2-5b59c521b1e1",
   "metadata": {},
   "source": [
    "### Plotting the line fitted by our model against the input data"
   ]
  },
  {
   "cell_type": "code",
   "execution_count": 893,
   "id": "e6bbb1ca-f624-4047-ac47-fc20bd8fc3c9",
   "metadata": {},
   "outputs": [
    {
     "data": {
      "image/png": "[encoded data removed]",
      "text/plain": [
       "<Figure size 432x288 with 1 Axes>"
      ]
     },
     "metadata": {
      "needs_background": "light"
     },
     "output_type": "display_data"
    }
   ],
   "source": [
    "#plotting fitted line\n",
    "y_hat = predict(X_train,theta)\n",
    "plt.scatter(X_['Year'],y_train, label='Data samples')\n",
    "plt.plot(X_['Year'],y_hat, color='red', label = 'Fitted line')\n",
    "plt.xlabel('Year')\n",
    "plt.ylabel('Arctic Ice Extent')\n",
    "plt.title('Mean Squared error VS Epochs')\n",
    "plt.legend()\n",
    "plt.show()"
   ]
  },
  {
   "cell_type": "markdown",
   "id": "b40087db-4f72-40a1-8a8b-d54e8dc81306",
   "metadata": {},
   "source": [
    "## Extrapolating our linear regression line to predict the year that ice extent would hit zero"
   ]
  },
  {
   "cell_type": "code",
   "execution_count": 894,
   "id": "7fb24ca2-bd08-4e93-a5d3-72d5181beb4b",
   "metadata": {},
   "outputs": [
    {
     "name": "stdout",
     "output_type": "stream",
     "text": [
      "Year when ice extent hits 0 is:  2221\n"
     ]
    },
    {
     "data": {
      "image/png": "[encoded data removed]",
      "text/plain": [
       "<Figure size 432x288 with 1 Axes>"
      ]
     },
     "metadata": {
      "needs_background": "light"
     },
     "output_type": "display_data"
    }
   ],
   "source": [
    "#Takes numpy array as input instead of dataframe like in the method built in class\n",
    "def prediction(X_test):\n",
    "    df_test = pd.DataFrame(X_test, columns=['Year'])\n",
    "    df_test = (df_test-mu)/sigma\n",
    "    X_zero = np.ones((df_test.shape[0],1))\n",
    "    X_test = np.hstack((X_zero,df_test))\n",
    "    y_pred = predict(X_test,theta)\n",
    "    return y_pred\n",
    "\n",
    "\n",
    "#Predicting in which year ice extent would hit zero\n",
    "\n",
    "y_pred = []\n",
    "year = []\n",
    "yr = 1978\n",
    "while(True):\n",
    "    y_hat = prediction(np.array([yr]))\n",
    "    if(y_hat<0):\n",
    "        break\n",
    "    year.append(yr)\n",
    "    y_pred.append(y_hat)\n",
    "    yr = yr+1\n",
    "    \n",
    "print(\"Year when ice extent hits 0 is: \",year[-1])\n",
    "plt.scatter(df['Year'],df['Extent'], label = 'Data Samples')\n",
    "plt.plot(year,y_pred, color='red', label = 'Fitted line')\n",
    "plt.scatter(year[-1],y_pred[-1],color='green',label = 'Year with 0 ice extent')\n",
    "plt.xlabel('Year')\n",
    "plt.ylabel('Arctic Ice Extent')\n",
    "plt.title('Mean Squared error VS Epochs')\n",
    "plt.legend()\n",
    "plt.show()"
   ]
  },
  {
   "cell_type": "markdown",
   "id": "44f4fe05-4bc9-4a06-b5c6-29be54edc375",
   "metadata": {},
   "source": [
    "### So by extrapolating our linearly fitted line, we can tell that the ice extent is predicted to hit zero in the year \"2221\""
   ]
  },
  {
   "cell_type": "markdown",
   "id": "a363a397-7d29-4568-b616-51a8334abf7d",
   "metadata": {},
   "source": [
    "# **Polynomial Regression**"
   ]
  },
  {
   "cell_type": "markdown",
   "id": "14e9f984-f6f5-4035-96cf-bf0af8cfd9ae",
   "metadata": {},
   "source": [
    "## Reading CSV file and splitting it into Train and Test"
   ]
  },
  {
   "cell_type": "code",
   "execution_count": 895,
   "id": "38e6c87c-17e2-491c-be4b-2f6b1cc7df19",
   "metadata": {},
   "outputs": [
    {
     "name": "stdout",
     "output_type": "stream",
     "text": [
      "   Year     Extent  Global CO2  Temp Diff From Average\n",
      "0  1978  12.487000  335.415000                    0.07\n",
      "1  1979  12.319560  336.835000                    0.16\n",
      "2  1980  12.334148  338.762500                    0.26\n",
      "3  1981  12.135486  340.120000                    0.32\n",
      "4  1982  12.439445  341.478333                    0.14\n",
      "(36, 4)\n",
      "(9, 4)\n"
     ]
    }
   ],
   "source": [
    "df = pd.read_csv('sea_avg_multi.csv')\n",
    "print(df.head())\n",
    "\n",
    "df = df.sample(frac=1, random_state=20).reset_index(drop=True) #shuffle dataframe\n",
    "\n",
    "#Splitting in train and test\n",
    "split = math.floor(df.shape[0]*0.2) #80-20% split\n",
    "test = df.head(n=split)\n",
    "train = df.drop(index=df.index[:split]).reset_index(drop=True)\n",
    "print(train.shape)\n",
    "print(test.shape)"
   ]
  },
  {
   "cell_type": "markdown",
   "id": "aa014e8d-3d81-43b8-981c-c266e3a7b59f",
   "metadata": {},
   "source": [
    "## Splitting our data into X(features) and y(outcome)"
   ]
  },
  {
   "cell_type": "code",
   "execution_count": 896,
   "id": "8932fd6d-383f-4ec7-b146-5ada081cc636",
   "metadata": {},
   "outputs": [
    {
     "name": "stdout",
     "output_type": "stream",
     "text": [
      "(36, 3) (9, 3) (36,) (9,)\n"
     ]
    }
   ],
   "source": [
    "#Splitting X and Y\n",
    "y_train = train['Extent'].to_numpy()\n",
    "y_test = test['Extent'].to_numpy()\n",
    "\n",
    "X_train = train.drop(['Extent'],axis=1)\n",
    "X_test = test.drop(['Extent'],axis=1)\n",
    "print(X_train.shape, X_test.shape, y_train.shape, y_test.shape)"
   ]
  },
  {
   "cell_type": "markdown",
   "id": "54346d31-8666-42b4-acfb-8ab37eb50593",
   "metadata": {},
   "source": [
    "## Creating polynomial features"
   ]
  },
  {
   "cell_type": "code",
   "execution_count": 897,
   "id": "746fcbab-4dcc-467a-989b-bb0f418d8ead",
   "metadata": {},
   "outputs": [
    {
     "data": {
      "text/html": [
       "<div>\n",
       "<style scoped>\n",
       "    .dataframe tbody tr th:only-of-type {\n",
       "        vertical-align: middle;\n",
       "    }\n",
       "\n",
       "    .dataframe tbody tr th {\n",
       "        vertical-align: top;\n",
       "    }\n",
       "\n",
       "    .dataframe thead th {\n",
       "        text-align: right;\n",
       "    }\n",
       "</style>\n",
       "<table border=\"1\" class=\"dataframe\">\n",
       "  <thead>\n",
       "    <tr style=\"text-align: right;\">\n",
       "      <th></th>\n",
       "      <th>Year</th>\n",
       "      <th>Global CO2</th>\n",
       "      <th>Temp Diff From Average</th>\n",
       "      <th>Year^2</th>\n",
       "      <th>Global CO2^2</th>\n",
       "      <th>Temp Diff From Average^2</th>\n",
       "      <th>Year^3</th>\n",
       "      <th>Global CO2^3</th>\n",
       "      <th>Temp Diff From Average^3</th>\n",
       "    </tr>\n",
       "  </thead>\n",
       "  <tbody>\n",
       "    <tr>\n",
       "      <th>0</th>\n",
       "      <td>1992</td>\n",
       "      <td>356.545833</td>\n",
       "      <td>0.22</td>\n",
       "      <td>3968064</td>\n",
       "      <td>127124.931267</td>\n",
       "      <td>0.0484</td>\n",
       "      <td>7904383488</td>\n",
       "      <td>4.532586e+07</td>\n",
       "      <td>0.010648</td>\n",
       "    </tr>\n",
       "    <tr>\n",
       "      <th>1</th>\n",
       "      <td>1995</td>\n",
       "      <td>360.968333</td>\n",
       "      <td>0.44</td>\n",
       "      <td>3980025</td>\n",
       "      <td>130298.137669</td>\n",
       "      <td>0.1936</td>\n",
       "      <td>7940149875</td>\n",
       "      <td>4.703350e+07</td>\n",
       "      <td>0.085184</td>\n",
       "    </tr>\n",
       "    <tr>\n",
       "      <th>2</th>\n",
       "      <td>2002</td>\n",
       "      <td>373.452500</td>\n",
       "      <td>0.62</td>\n",
       "      <td>4008004</td>\n",
       "      <td>139466.769756</td>\n",
       "      <td>0.3844</td>\n",
       "      <td>8024024008</td>\n",
       "      <td>5.208421e+07</td>\n",
       "      <td>0.238328</td>\n",
       "    </tr>\n",
       "    <tr>\n",
       "      <th>3</th>\n",
       "      <td>2020</td>\n",
       "      <td>414.238333</td>\n",
       "      <td>1.02</td>\n",
       "      <td>4080400</td>\n",
       "      <td>171593.396803</td>\n",
       "      <td>1.0404</td>\n",
       "      <td>8242408000</td>\n",
       "      <td>7.108056e+07</td>\n",
       "      <td>1.061208</td>\n",
       "    </tr>\n",
       "    <tr>\n",
       "      <th>4</th>\n",
       "      <td>1981</td>\n",
       "      <td>340.120000</td>\n",
       "      <td>0.32</td>\n",
       "      <td>3924361</td>\n",
       "      <td>115681.614400</td>\n",
       "      <td>0.1024</td>\n",
       "      <td>7774159141</td>\n",
       "      <td>3.934563e+07</td>\n",
       "      <td>0.032768</td>\n",
       "    </tr>\n",
       "  </tbody>\n",
       "</table>\n",
       "</div>"
      ],
      "text/plain": [
       "   Year  Global CO2  Temp Diff From Average   Year^2   Global CO2^2  \\\n",
       "0  1992  356.545833                    0.22  3968064  127124.931267   \n",
       "1  1995  360.968333                    0.44  3980025  130298.137669   \n",
       "2  2002  373.452500                    0.62  4008004  139466.769756   \n",
       "3  2020  414.238333                    1.02  4080400  171593.396803   \n",
       "4  1981  340.120000                    0.32  3924361  115681.614400   \n",
       "\n",
       "   Temp Diff From Average^2      Year^3  Global CO2^3  \\\n",
       "0                    0.0484  7904383488  4.532586e+07   \n",
       "1                    0.1936  7940149875  4.703350e+07   \n",
       "2                    0.3844  8024024008  5.208421e+07   \n",
       "3                    1.0404  8242408000  7.108056e+07   \n",
       "4                    0.1024  7774159141  3.934563e+07   \n",
       "\n",
       "   Temp Diff From Average^3  \n",
       "0                  0.010648  \n",
       "1                  0.085184  \n",
       "2                  0.238328  \n",
       "3                  1.061208  \n",
       "4                  0.032768  "
      ]
     },
     "execution_count": 897,
     "metadata": {},
     "output_type": "execute_result"
    }
   ],
   "source": [
    "degree = 3\n",
    "col_list = X_train.columns\n",
    "\n",
    "for i in range(2,degree+1):\n",
    "    for col in col_list:\n",
    "        new_degree = str(i)\n",
    "        col_degree = col+'^'+new_degree\n",
    "        X_train[col_degree] = X_train[col]**i\n",
    "\n",
    "X_train.head()"
   ]
  },
  {
   "cell_type": "markdown",
   "id": "77099dcb-224f-4348-ace9-bbc26a7c0395",
   "metadata": {},
   "source": [
    "## Z normalisation"
   ]
  },
  {
   "cell_type": "code",
   "execution_count": 898,
   "id": "2fc65b28-b64f-4010-8cc8-067acd3f9cae",
   "metadata": {},
   "outputs": [
    {
     "name": "stdout",
     "output_type": "stream",
     "text": [
      "(9,) (9,)\n"
     ]
    },
    {
     "data": {
      "text/html": [
       "<div>\n",
       "<style scoped>\n",
       "    .dataframe tbody tr th:only-of-type {\n",
       "        vertical-align: middle;\n",
       "    }\n",
       "\n",
       "    .dataframe tbody tr th {\n",
       "        vertical-align: top;\n",
       "    }\n",
       "\n",
       "    .dataframe thead th {\n",
       "        text-align: right;\n",
       "    }\n",
       "</style>\n",
       "<table border=\"1\" class=\"dataframe\">\n",
       "  <thead>\n",
       "    <tr style=\"text-align: right;\">\n",
       "      <th></th>\n",
       "      <th>Year</th>\n",
       "      <th>Global CO2</th>\n",
       "      <th>Temp Diff From Average</th>\n",
       "      <th>Year^2</th>\n",
       "      <th>Global CO2^2</th>\n",
       "      <th>Temp Diff From Average^2</th>\n",
       "      <th>Year^3</th>\n",
       "      <th>Global CO2^3</th>\n",
       "      <th>Temp Diff From Average^3</th>\n",
       "    </tr>\n",
       "  </thead>\n",
       "  <tbody>\n",
       "    <tr>\n",
       "      <th>0</th>\n",
       "      <td>-0.762153</td>\n",
       "      <td>-0.794758</td>\n",
       "      <td>-1.316136</td>\n",
       "      <td>-0.763455</td>\n",
       "      <td>-0.798783</td>\n",
       "      <td>-1.056393</td>\n",
       "      <td>-0.764737</td>\n",
       "      <td>-0.801014</td>\n",
       "      <td>-0.840268</td>\n",
       "    </tr>\n",
       "    <tr>\n",
       "      <th>1</th>\n",
       "      <td>-0.514969</td>\n",
       "      <td>-0.603035</td>\n",
       "      <td>-0.408930</td>\n",
       "      <td>-0.517217</td>\n",
       "      <td>-0.616968</td>\n",
       "      <td>-0.546981</td>\n",
       "      <td>-0.519451</td>\n",
       "      <td>-0.629158</td>\n",
       "      <td>-0.584861</td>\n",
       "    </tr>\n",
       "    <tr>\n",
       "      <th>2</th>\n",
       "      <td>0.061796</td>\n",
       "      <td>-0.061825</td>\n",
       "      <td>0.333329</td>\n",
       "      <td>0.058778</td>\n",
       "      <td>-0.091635</td>\n",
       "      <td>0.122412</td>\n",
       "      <td>0.055758</td>\n",
       "      <td>-0.120855</td>\n",
       "      <td>-0.060095</td>\n",
       "    </tr>\n",
       "    <tr>\n",
       "      <th>3</th>\n",
       "      <td>1.544906</td>\n",
       "      <td>1.706310</td>\n",
       "      <td>1.982794</td>\n",
       "      <td>1.549173</td>\n",
       "      <td>1.749116</td>\n",
       "      <td>2.423889</td>\n",
       "      <td>1.553436</td>\n",
       "      <td>1.790935</td>\n",
       "      <td>2.759604</td>\n",
       "    </tr>\n",
       "    <tr>\n",
       "      <th>4</th>\n",
       "      <td>-1.668498</td>\n",
       "      <td>-1.506846</td>\n",
       "      <td>-0.903769</td>\n",
       "      <td>-1.663156</td>\n",
       "      <td>-1.454448</td>\n",
       "      <td>-0.866942</td>\n",
       "      <td>-1.657817</td>\n",
       "      <td>-1.402864</td>\n",
       "      <td>-0.764471</td>\n",
       "    </tr>\n",
       "  </tbody>\n",
       "</table>\n",
       "</div>"
      ],
      "text/plain": [
       "       Year  Global CO2  Temp Diff From Average    Year^2  Global CO2^2  \\\n",
       "0 -0.762153   -0.794758               -1.316136 -0.763455     -0.798783   \n",
       "1 -0.514969   -0.603035               -0.408930 -0.517217     -0.616968   \n",
       "2  0.061796   -0.061825                0.333329  0.058778     -0.091635   \n",
       "3  1.544906    1.706310                1.982794  1.549173      1.749116   \n",
       "4 -1.668498   -1.506846               -0.903769 -1.663156     -1.454448   \n",
       "\n",
       "   Temp Diff From Average^2    Year^3  Global CO2^3  Temp Diff From Average^3  \n",
       "0                 -1.056393 -0.764737     -0.801014                 -0.840268  \n",
       "1                 -0.546981 -0.519451     -0.629158                 -0.584861  \n",
       "2                  0.122412  0.055758     -0.120855                 -0.060095  \n",
       "3                  2.423889  1.553436      1.790935                  2.759604  \n",
       "4                 -0.866942 -1.657817     -1.402864                 -0.764471  "
      ]
     },
     "execution_count": 898,
     "metadata": {},
     "output_type": "execute_result"
    }
   ],
   "source": [
    "#Z normalisation\n",
    "mu = np.mean(X_train,axis=0)\n",
    "sigma = np.std(X_train,axis=0)\n",
    "print(mu.shape, sigma.shape)\n",
    "\n",
    "X_train = (X_train-mu)/sigma\n",
    "X_train.head()"
   ]
  },
  {
   "cell_type": "markdown",
   "id": "ae716107-ecb4-40a8-b684-6c4f9b5b77f5",
   "metadata": {},
   "source": [
    "## Adding a column of 1s to our feature matrix so we can apply dot product for weights and features"
   ]
  },
  {
   "cell_type": "code",
   "execution_count": 899,
   "id": "eeb93ea0-fffb-4913-a08f-88f48088d5b1",
   "metadata": {},
   "outputs": [
    {
     "name": "stdout",
     "output_type": "stream",
     "text": [
      "(36, 10)\n"
     ]
    }
   ],
   "source": [
    "#Adding column of 1 in X to multiply with theta0\n",
    "X_zero = np.ones((X_train.shape[0],1))\n",
    "X_train = np.hstack((X_zero,X_train))\n",
    "print(X_train.shape)"
   ]
  },
  {
   "cell_type": "markdown",
   "id": "7d6ac0f3-7bd9-417a-880f-48a0038fb8f7",
   "metadata": {},
   "source": [
    "# Building Polynomial Linear Regression"
   ]
  },
  {
   "cell_type": "code",
   "execution_count": 900,
   "id": "2bbc8967-d56d-4d61-92ad-1453d84129b4",
   "metadata": {},
   "outputs": [],
   "source": [
    "class polyLinearRegression:\n",
    "    def __init__(self):\n",
    "        print(\"Regressor created\")\n",
    "        \n",
    "    def predict(self, X,theta):\n",
    "        return np.dot(X,theta)\n",
    "\n",
    "    def error(self, X,y,theta):\n",
    "        m = X.shape[0]\n",
    "        e = 0.0\n",
    "        y_hat = self.predict(X,theta)\n",
    "        e = (np.sum((y-y_hat)**2))/m\n",
    "        \n",
    "        return e\n",
    "\n",
    "    def r2_score(self, X,y):\n",
    "        y_hat = self.predict(X,theta)\n",
    "        num = np.sum((y-y_hat)**2)\n",
    "        denom = np.sum((y-y.mean())**2)\n",
    "        score = (1-num/denom)\n",
    "        \n",
    "        return score*100\n",
    "\n",
    "    def gradient(self, X,y,theta):\n",
    "        m = X.shape[0]\n",
    "        y_hat = self.predict(X,theta)\n",
    "        grad = (np.dot(X.T,(y_hat-y)))/m\n",
    "        \n",
    "        return grad\n",
    "\n",
    "    def fit(self, X,y,learning_rate=0.05,max_epochs=100):\n",
    "        n = X.shape[1]\n",
    "        theta = np.zeros((n,))\n",
    "        error_list = []\n",
    "\n",
    "        for i in range(max_epochs):\n",
    "            e = self.error(X,y,theta)\n",
    "            error_list.append(e)\n",
    "\n",
    "            grad = self.gradient(X,y,theta)\n",
    "            theta = theta - learning_rate*grad\n",
    "\n",
    "        return theta,error_list\n",
    "\n",
    "    def test_preprocess(self, X,degree):\n",
    "        col_list = X.columns\n",
    "\n",
    "        for i in range(2,degree+1):\n",
    "            for col in col_list:\n",
    "                new_degree = str(i)\n",
    "                col_degree = col+'^'+new_degree\n",
    "                X[col_degree] = X[col]**i\n",
    "        \n",
    "        X = (X-mu)/sigma\n",
    "        X_zero = np.ones((X.shape[0],1))\n",
    "        X = np.hstack((X_zero,X))\n",
    "        \n",
    "        return X"
   ]
  },
  {
   "cell_type": "markdown",
   "id": "3545852a-28d0-47e6-ad82-cecab4c1134b",
   "metadata": {},
   "source": [
    "## Fitting in the model"
   ]
  },
  {
   "cell_type": "code",
   "execution_count": 901,
   "id": "de06bf12-f1c6-4170-86a2-8859112da462",
   "metadata": {},
   "outputs": [
    {
     "name": "stdout",
     "output_type": "stream",
     "text": [
      "Regressor created\n"
     ]
    }
   ],
   "source": [
    "learning_rate = 0.1\n",
    "epochs = 200\n",
    "model = polyLinearRegression()\n",
    "theta, error_list = model.fit(X_train,y_train,learning_rate,epochs)"
   ]
  },
  {
   "cell_type": "markdown",
   "id": "5d761a8f-4b72-4c77-9960-dc84cfc89e15",
   "metadata": {},
   "source": [
    "### Printing the learnable weights we got after training of our model"
   ]
  },
  {
   "cell_type": "code",
   "execution_count": 902,
   "id": "64794c2e-d0c8-4e49-b7af-d2784ff9961d",
   "metadata": {},
   "outputs": [
    {
     "name": "stdout",
     "output_type": "stream",
     "text": [
      "Learned weights are:  [ 1.12932724e+01 -1.06020550e-01 -5.39877480e-02 -1.22446717e-01\n",
      " -1.04282625e-01 -2.67670202e-02 -9.01372514e-02 -1.02526803e-01\n",
      "  2.19955998e-03 -3.27245298e-02]\n"
     ]
    }
   ],
   "source": [
    "print(\"Learned weights are: \",theta)"
   ]
  },
  {
   "cell_type": "markdown",
   "id": "d3a6d5e8-c90c-424f-814a-8616c2d34770",
   "metadata": {},
   "source": [
    "### Plotting error(MSE) curve"
   ]
  },
  {
   "cell_type": "code",
   "execution_count": 903,
   "id": "f8a3faec-fb33-4962-9743-0ab55873d093",
   "metadata": {},
   "outputs": [
    {
     "data": {
      "image/png": "[encoded data removed]",
      "text/plain": [
       "<Figure size 432x288 with 1 Axes>"
      ]
     },
     "metadata": {
      "needs_background": "light"
     },
     "output_type": "display_data"
    }
   ],
   "source": [
    "#Plotting error\n",
    "plt.plot(error_list)\n",
    "plt.xlabel('Epochs')\n",
    "plt.ylabel('MSE')\n",
    "plt.title('Mean Squared error VS Epochs')\n",
    "plt.show()"
   ]
  },
  {
   "cell_type": "markdown",
   "id": "1e35ddfd-b93e-40f9-8b81-47c11a8067af",
   "metadata": {},
   "source": [
    "## Running evaluation on test(unseen) set"
   ]
  },
  {
   "cell_type": "code",
   "execution_count": 904,
   "id": "4e218edf-6bc4-4c86-85db-7e3b3e69a5e6",
   "metadata": {},
   "outputs": [
    {
     "name": "stdout",
     "output_type": "stream",
     "text": [
      "MSE on test set is:  0.03574176984598722\n",
      "R^2 score on test is:  94.90370758905571\n"
     ]
    }
   ],
   "source": [
    "#Evaluation on test set\n",
    "degree=3\n",
    "X_test = model.test_preprocess(X_test,degree)\n",
    "print(\"MSE on test set is: \",model.error(X_test,y_test,theta))\n",
    "print(\"R^2 score on test is: \",model.r2_score(X_test,y_test))"
   ]
  },
  {
   "cell_type": "markdown",
   "id": "64483ced-e827-4657-b6ee-8d4647d68265",
   "metadata": {},
   "source": [
    "## Making predictions using our model"
   ]
  },
  {
   "cell_type": "code",
   "execution_count": 905,
   "id": "e57e55e4-df5d-4a1a-85d3-858332e81317",
   "metadata": {},
   "outputs": [
    {
     "name": "stdout",
     "output_type": "stream",
     "text": [
      "Predictions are:  [12.39732948 12.31475036]\n"
     ]
    }
   ],
   "source": [
    "data = [[1978, 335.415000,0.07],[1979,336.835000,0.16]]\n",
    "test_df = pd.DataFrame(data, columns=['Year', 'Global CO2', 'Temp Diff From Average'])\n",
    "degree=3\n",
    "test_df = model.test_preprocess(test_df,degree)\n",
    "pred = model.predict(test_df,theta)\n",
    "print(\"Predictions are: \",pred)"
   ]
  },
  {
   "cell_type": "markdown",
   "id": "7a01bb8e-ea05-40a1-9a99-89f1bbd42010",
   "metadata": {},
   "source": [
    "# **Artificial Neural Network**"
   ]
  },
  {
   "cell_type": "markdown",
   "id": "36f38e85-7373-4d7d-9d77-0514877ac883",
   "metadata": {},
   "source": [
    "## Reading CSV file and splitting it into Train and Test"
   ]
  },
  {
   "cell_type": "code",
   "execution_count": 906,
   "id": "3d43074c-14d7-4275-8499-4c97c0e5e9a9",
   "metadata": {},
   "outputs": [
    {
     "name": "stdout",
     "output_type": "stream",
     "text": [
      "   Year     Extent  Global CO2  Temp Diff From Average\n",
      "0  1978  12.487000  335.415000                    0.07\n",
      "1  1979  12.319560  336.835000                    0.16\n",
      "2  1980  12.334148  338.762500                    0.26\n",
      "3  1981  12.135486  340.120000                    0.32\n",
      "4  1982  12.439445  341.478333                    0.14\n",
      "(36, 4)\n",
      "(9, 4)\n"
     ]
    }
   ],
   "source": [
    "df = pd.read_csv('sea_avg_multi.csv')\n",
    "print(df.head())\n",
    "\n",
    "df = df.sample(frac=1, random_state=20).reset_index(drop=True) #shuffle dataframe\n",
    "\n",
    "#Splitting in train and test\n",
    "split = math.floor(df.shape[0]*0.2) #80-20% split\n",
    "test = df.head(n=split)\n",
    "train = df.drop(index=df.index[:split]).reset_index(drop=True)\n",
    "print(train.shape)\n",
    "print(test.shape)"
   ]
  },
  {
   "cell_type": "markdown",
   "id": "1f872086-554c-49a7-8f2e-da3d471791ad",
   "metadata": {},
   "source": [
    "## Splitting data into X(features) and y(outcome)"
   ]
  },
  {
   "cell_type": "code",
   "execution_count": 907,
   "id": "137b9a6f-7444-49e2-b7bd-98898f07b6c3",
   "metadata": {},
   "outputs": [
    {
     "name": "stdout",
     "output_type": "stream",
     "text": [
      "(36, 3) (9, 3) (36, 1) (9, 1)\n"
     ]
    }
   ],
   "source": [
    "#Splitting X and Y\n",
    "y_train = train['Extent'].to_numpy()\n",
    "y_train = np.reshape(y_train, ((y_train.shape[0], 1)))\n",
    "\n",
    "y_test = test['Extent'].to_numpy()\n",
    "y_test = np.reshape(y_test, ((y_test.shape[0], 1)))\n",
    "\n",
    "X_train = train.drop(['Extent'],axis=1)\n",
    "X_train = X_train.to_numpy()\n",
    "\n",
    "X_test = test.drop(['Extent'],axis=1)\n",
    "X_test = X_test.to_numpy()\n",
    "print(X_train.shape, X_test.shape, y_train.shape, y_test.shape)"
   ]
  },
  {
   "cell_type": "markdown",
   "id": "dfe4b118-687a-4324-b8f2-90435f7ba585",
   "metadata": {},
   "source": [
    "## Z normalisation"
   ]
  },
  {
   "cell_type": "code",
   "execution_count": 908,
   "id": "292c7936-7b6f-4fa4-9fe9-8f51cb1b7b92",
   "metadata": {},
   "outputs": [
    {
     "name": "stdout",
     "output_type": "stream",
     "text": [
      "(3,) (3,)\n"
     ]
    }
   ],
   "source": [
    "#Z normalisation\n",
    "mu = np.mean(X_train,axis=0)\n",
    "sigma = np.std(X_train,axis=0)\n",
    "print(mu.shape, sigma.shape)\n",
    "\n",
    "X_train = (X_train-mu)/sigma"
   ]
  },
  {
   "cell_type": "markdown",
   "id": "d0f288e0-ca2b-4618-9b8b-a72020335273",
   "metadata": {},
   "source": [
    "# Building Artificial Neural Network"
   ]
  },
  {
   "cell_type": "code",
   "execution_count": 909,
   "id": "9c94e5cb-9dfe-41c8-add3-3222ac9066d1",
   "metadata": {},
   "outputs": [],
   "source": [
    "class NeuralNetwork:\n",
    "    def __init__(self,input_size,l,output_size, activationfunction=\"tanh\"):\n",
    "        np.random.seed(0)\n",
    "        model = {}\n",
    "        #for hidden layer\n",
    "        model['W1']  = np.random.randn(input_size,l[0])\n",
    "        model['b1'] = np.random.randn(1,l[0])\n",
    "        \n",
    "        #for output layer\n",
    "        model['W2']  = np.random.randn(l[0],output_size)\n",
    "        model['b2'] = np.random.randn(1,output_size)\n",
    "        \n",
    "        self.model = model\n",
    "        self.activationfunction = activationfunction\n",
    "\n",
    "    def linear(self, a):\n",
    "      return a\n",
    "\n",
    "    def relu(self, a):\n",
    "      return(np.maximum(0, a))\n",
    "\n",
    "    def reluderivative(self, a) :\n",
    "      temp=a.copy()\n",
    "      for i in range(a.shape[0]):\n",
    "        for j in range(a.shape[1]):\n",
    "          if(temp[i][j]>0):\n",
    "            temp[i][j] = 1\n",
    "          else:\n",
    "            temp[i][j] = 0\n",
    "      return temp\n",
    "            \n",
    "    def forward(self,x):\n",
    "        W1,W2 = self.model['W1'],self.model['W2']\n",
    "        b1,b2 = self.model['b1'],self.model['b2']\n",
    "        \n",
    "        #hidden layer\n",
    "        z1 = np.dot(x,W1) + b1\n",
    "        if(self.activationfunction==\"relu\"):\n",
    "          a1 = self.relu(z1)\n",
    "        if(self.activationfunction==\"tanh\"):\n",
    "          a1 = np.tanh(z1)\n",
    "\n",
    "        #output layer\n",
    "        z2 = np.dot(a1,W2) + b2\n",
    "        y_ = self.linear(z2)\n",
    "        \n",
    "        # Store the layer wise output for backprop later\n",
    "        self.activations = (a1,y_)\n",
    "        self.z = (z1, z2)\n",
    "        return y_\n",
    "    \n",
    "    def backward(self,x,y,learning_rate=0.01):\n",
    "        W1,W2 = self.model['W1'],self.model['W2']\n",
    "        b1,b2 = self.model['b1'],self.model['b2']\n",
    "        a1,y_ = self.activations\n",
    "        z1, z2 = self.z\n",
    "\n",
    "        # Output layer\n",
    "        d2 = (y_ - y)\n",
    "        dw2 = np.dot(a1.T,d2)\n",
    "        db2 = np.sum(d2,axis=0)\n",
    "        \n",
    "        # Hidden layer\n",
    "        d1 = np.dot(d2,W2.T)\n",
    "        if(self.activationfunction==\"relu\"):\n",
    "          d1 = d1*(self.reluderivative(z1))\n",
    "        if(self.activationfunction==\"tanh\"):\n",
    "          d1 = d1 * (1-np.square(a1))\n",
    "        dw1 = np.dot(x.T,d1)\n",
    "        db1 = np.sum(d1,axis=0)\n",
    "        \n",
    "        # Gradient Descent \n",
    "        self.model['W1'] -= learning_rate*dw1\n",
    "        self.model['W2'] -= learning_rate*dw2\n",
    "        self.model['b1'] -= learning_rate*db1\n",
    "        self.model['b2'] -= learning_rate*db2\n",
    "    \n",
    "    def predict(self,x):\n",
    "        out = self.forward(x)\n",
    "        return out\n",
    "\n",
    "    def loss(self, y,y_):\n",
    "      l = (1/2)*np.mean((y_-y)**2)\n",
    "      return l\n",
    "\n",
    "    def r2Score(self,y, y_):\n",
    "      num = np.sum((y-y_)**2)\n",
    "      denom = np.sum((y-y.mean())**2)\n",
    "      score = (1-num/denom)\n",
    "      return score*100\n",
    "\n",
    "    def fit(self, X ,Y,epochs, learning_rate):\n",
    "    \n",
    "      train_loss = []\n",
    "      \n",
    "      for i in range(epochs):\n",
    "          Y_ = self.forward(X)\n",
    "          l = self.loss(Y,Y_)\n",
    "          train_loss.append(l)\n",
    "          model.backward(X,Y, learning_rate)\n",
    "          if ((i+1)%1000==0):\n",
    "              r2score = self.r2Score(Y,Y_)\n",
    "              print(\"Epoch %d Loss %.2f R2_score %.2f\"%(i+1,l,r2score))\n",
    "      return train_loss"
   ]
  },
  {
   "cell_type": "markdown",
   "id": "e4cbacd0-3250-410f-9dbd-8075355a03ed",
   "metadata": {},
   "source": [
    "## Fitting in the model"
   ]
  },
  {
   "cell_type": "code",
   "execution_count": 910,
   "id": "a94d8a27-44f6-4f75-97db-e20569f22449",
   "metadata": {},
   "outputs": [
    {
     "name": "stdout",
     "output_type": "stream",
     "text": [
      "Epoch 1000 Loss 0.02 R2_score 90.01\n",
      "Epoch 2000 Loss 0.02 R2_score 90.11\n",
      "Epoch 3000 Loss 0.02 R2_score 90.19\n",
      "Epoch 4000 Loss 0.02 R2_score 90.28\n",
      "Epoch 5000 Loss 0.02 R2_score 90.38\n",
      "Epoch 6000 Loss 0.02 R2_score 90.49\n",
      "Epoch 7000 Loss 0.02 R2_score 90.61\n",
      "Epoch 8000 Loss 0.02 R2_score 90.74\n",
      "Epoch 9000 Loss 0.02 R2_score 90.85\n",
      "Epoch 10000 Loss 0.02 R2_score 90.92\n",
      "Epoch 11000 Loss 0.02 R2_score 90.99\n",
      "Epoch 12000 Loss 0.02 R2_score 91.04\n",
      "Epoch 13000 Loss 0.02 R2_score 91.04\n",
      "Epoch 14000 Loss 0.02 R2_score 91.03\n",
      "Epoch 15000 Loss 0.02 R2_score 90.99\n",
      "Epoch 16000 Loss 0.02 R2_score 91.15\n",
      "Epoch 17000 Loss 0.02 R2_score 91.12\n",
      "Epoch 18000 Loss 0.02 R2_score 91.08\n",
      "Epoch 19000 Loss 0.02 R2_score 91.07\n",
      "Epoch 20000 Loss 0.02 R2_score 91.08\n",
      "Epoch 21000 Loss 0.02 R2_score 91.75\n",
      "Epoch 22000 Loss 0.02 R2_score 91.81\n",
      "Epoch 23000 Loss 0.02 R2_score 91.83\n",
      "Epoch 24000 Loss 0.02 R2_score 91.84\n",
      "Epoch 25000 Loss 0.02 R2_score 91.85\n"
     ]
    }
   ],
   "source": [
    "# Model Details\n",
    "input_size = 3\n",
    "layers = [2] #Hidden Layers\n",
    "output_size = 1\n",
    "model = NeuralNetwork(input_size,layers,output_size, activationfunction=\"relu\")\n",
    "error_list = model.fit(X_train, y_train, epochs=25000, learning_rate=0.003)\n",
    "\n",
    "#0.003 - relu\n",
    "#0.02 - tanh"
   ]
  },
  {
   "cell_type": "markdown",
   "id": "862963a4-22ba-488b-b13f-9ccbb9a4df76",
   "metadata": {},
   "source": [
    "### Plotting error(MSE) curve"
   ]
  },
  {
   "cell_type": "code",
   "execution_count": 911,
   "id": "c864ce5f-e76c-48b1-8540-cb4653e844f4",
   "metadata": {},
   "outputs": [
    {
     "data": {
      "image/png": "[encoded data removed]",
      "text/plain": [
       "<Figure size 432x288 with 1 Axes>"
      ]
     },
     "metadata": {
      "needs_background": "light"
     },
     "output_type": "display_data"
    }
   ],
   "source": [
    "plt.plot(error_list)\n",
    "plt.xlabel('Epochs')\n",
    "plt.ylabel('MSE')\n",
    "plt.title('Mean Squared error VS Epochs')\n",
    "plt.show()"
   ]
  },
  {
   "cell_type": "markdown",
   "id": "3224be69-f730-4362-848f-2c1dc16943b4",
   "metadata": {},
   "source": [
    "## Running evaluation on test(unseen) set"
   ]
  },
  {
   "cell_type": "code",
   "execution_count": 912,
   "id": "96acf664-eae6-425d-a638-fe927df8380f",
   "metadata": {},
   "outputs": [
    {
     "name": "stdout",
     "output_type": "stream",
     "text": [
      "MSE on test set is:  0.019691822331523764\n",
      "R^2 score on test is:  94.38442555372927\n"
     ]
    }
   ],
   "source": [
    "X_test = (X_test-mu)/sigma\n",
    "y_hat = model.predict(X_test)\n",
    "print(\"MSE on test set is: \",model.loss(y_test,y_hat))\n",
    "print(\"R^2 score on test is: \",model.r2Score(y_test,y_hat))"
   ]
  },
  {
   "cell_type": "code",
   "execution_count": 913,
   "id": "36139c0e-2476-47b0-9975-33fb1f2530c6",
   "metadata": {},
   "outputs": [
    {
     "name": "stdout",
     "output_type": "stream",
     "text": [
      "Predictions are:  [[12.02615819]\n",
      " [10.58008357]]\n"
     ]
    }
   ],
   "source": [
    "data = [[1978, 335.415000,0.07],[1979,336.835000,0.16]]\n",
    "data = np.array(data)\n",
    "mu = np.mean(data,axis=0)\n",
    "sigma = np.std(data,axis=0)\n",
    "test_df = (data-mu)/sigma\n",
    "pred = model.predict(test_df)\n",
    "print(\"Predictions are: \",pred)"
   ]
  },
  {
   "cell_type": "markdown",
   "id": "a68e1be6-4c6d-4023-b8a5-718aff052b16",
   "metadata": {},
   "source": [
    "## Inference: By comparing our evaluation measures used for regression which contains MSE and R^2 score, we choose Linear Regression as our optimal model for this coursework and save the learned weights(theta) to make further predictions of \"arctic ice extent\" on unseen data. Linear regression being the simplest model in architecture compared to other models we used (polynomial regression and ANN) also is one of the factor for picking linear regression as it saves us some computation power."
   ]
  }
 ],
 "metadata": {
  "kernelspec": {
   "display_name": "Python 3 (ipykernel)",
   "language": "python",
   "name": "python3"
  },
  "language_info": {
   "codemirror_mode": {
    "name": "ipython",
    "version": 3
   },
   "file_extension": ".py",
   "mimetype": "text/x-python",
   "name": "python",
   "nbconvert_exporter": "python",
   "pygments_lexer": "ipython3",
   "version": "3.9.12"
  }
 },
 "nbformat": 4,
 "nbformat_minor": 5
}
